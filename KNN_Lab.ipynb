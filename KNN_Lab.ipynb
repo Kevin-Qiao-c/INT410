{
 "cells": [
  {
   "metadata": {},
   "cell_type": "markdown",
   "source": [
    "# Introduction to the Experiment\n",
    "\n",
    "The KNN experiment investigates the effect of \\(K\\), which represents the number of nearest neighbors considered, on classification performance. Adjusting \\(K\\) directly impacts the decision boundary of the model. The experiment aims to find the optimal range of \\(K\\) for achieving the best classification accuracy.\n",
    "\n",
    "The experiment will use 5-fold cross-validation to evaluate the accuracy.\n"
   ],
   "id": "b98f6523486fcfae"
  },
  {
   "metadata": {},
   "cell_type": "markdown",
   "source": [
    "# Dataset\n",
    "\n",
    "This experiment is based on the **Iris.data** dataset, which is a classic dataset widely used in pattern recognition and machine learning. The dataset was introduced by British statistician and biologist Ronald A. Fisher in 1936. The Iris dataset contains 150 samples from three different species of iris flowers, with 50 samples for each species. The species are: \n",
    "- **Iris-setosa**\n",
    "- **Iris-versicolor**\n",
    "- **Iris-virginica**. \n",
    "\n",
    "Each sample includes four features describing the morphological characteristics of the flowers:\n",
    "- **Sepal Length**\n",
    "- **Sepal Width**\n",
    "- **Petal Length**\n",
    "- **Petal Width**\n",
    "\n",
    "All four features are measured in centimeters. Each sample in the dataset is associated with a **class label** representing the species of the iris flower."
   ],
   "id": "195901752e1de631"
  },
  {
   "metadata": {
    "ExecuteTime": {
     "end_time": "2024-10-15T16:31:17.853206Z",
     "start_time": "2024-10-15T16:31:17.848596Z"
    }
   },
   "cell_type": "code",
   "source": [
    "import numpy as np\n",
    "import pandas as pd\n",
    "import random\n",
    "import timeit\n",
    "import matplotlib.pyplot as plt\n",
    "\n",
    "%matplotlib inline\n",
    "%config InlineBackend.figure_format = 'svg'\n",
    "plt.style.use('ggplot')"
   ],
   "id": "9ed676eed3e800ce",
   "outputs": [],
   "execution_count": 3
  },
  {
   "metadata": {},
   "cell_type": "markdown",
   "source": "## Computing Distance",
   "id": "31be1171bb294693"
  },
  {
   "metadata": {
    "ExecuteTime": {
     "end_time": "2024-10-15T16:31:20.487353Z",
     "start_time": "2024-10-15T16:31:20.484080Z"
    }
   },
   "cell_type": "code",
   "source": [
    "# calculate distance function\n",
    "def cal_distance(test, cal):\n",
    "    label_distance_list = []  # list of label and distance\n",
    "    for i in range(len(cal)):\n",
    "        label_distance = [cal[i][4]]\n",
    "        d = np.array(test[:4]) - np.array(cal[i][:4])  # test sample value-training sample value\n",
    "        label_distance.append(np.linalg.norm(d))  # calculate distance\n",
    "        label_distance_list.append(label_distance)\n",
    "    return label_distance_list"
   ],
   "id": "e11b259122f00c23",
   "outputs": [],
   "execution_count": 4
  },
  {
   "metadata": {},
   "cell_type": "markdown",
   "source": "## Separating Data to Train Set and Test Set",
   "id": "df83ca69010c0af7"
  },
  {
   "metadata": {
    "ExecuteTime": {
     "end_time": "2024-10-15T16:31:22.325582Z",
     "start_time": "2024-10-15T16:31:22.321943Z"
    }
   },
   "cell_type": "code",
   "source": [
    "def separate_data(ind, datalist):  # Method to separate the dataset into five parts for 5-fold cross validation\n",
    "    length = int(len(datalist) / 5)  # Cutting length of the list\n",
    "    data = [datalist[i * length:(i + 1) * length] for i in range(5)]\n",
    "\n",
    "    # According to the index, the test set will be chosen among the five subsets\n",
    "    test = data[ind]\n",
    "    train = [item for i, subset in enumerate(data) if i != ind for item in subset]\n",
    "    return train, test"
   ],
   "id": "e6ba74e63ab275",
   "outputs": [],
   "execution_count": 5
  },
  {
   "metadata": {},
   "cell_type": "markdown",
   "source": "## Main Part",
   "id": "5da7311d4003e3a5"
  },
  {
   "metadata": {
    "ExecuteTime": {
     "end_time": "2024-10-15T16:31:28.580909Z",
     "start_time": "2024-10-15T16:31:24.351426Z"
    }
   },
   "cell_type": "code",
   "source": [
    "iris_data = pd.read_csv(\"iris.data\", header=None)\n",
    "labels_codes = pd.Categorical(iris_data[4]).codes\n",
    "for i in range(150):\n",
    "    iris_data.loc[i, 4] = labels_codes[i]\n",
    "datalist = iris_data.values.tolist()\n",
    "random.seed(17)\n",
    "random.shuffle(datalist)\n",
    "\n",
    "average_acc = []\n",
    "k_list = []\n",
    "\n",
    "start = timeit.default_timer()  # Start timer to count the running time of KNN Method\n",
    "#  test different K values:\n",
    "for K in range(1, 120):\n",
    "    if K % 3 != 0:\n",
    "        # for visualization\n",
    "        k_list.append(K)\n",
    "        accuracy = []\n",
    "        # implementing 5-fold training process:\n",
    "        for i in range(5):\n",
    "            cal_data, test_data = separate_data(i, datalist)  # split training and testing set\n",
    "            # doing KNN\n",
    "            right = 0\n",
    "            for x in range(len(test_data)):\n",
    "                d_set = np.array(cal_distance(test_data[x], cal_data))  # list of distance\n",
    "                d_set = d_set[d_set[:, 1].argsort()]  # sort distance list\n",
    "                p_wk = [0, 0, 0]  # be used to record P(wk|x)\n",
    "                # calculate P(wk|x) for each test sample\n",
    "                for y in range(K):\n",
    "                    if int(d_set[y, 0]) == 0:\n",
    "                        p_wk[0] = p_wk[0] + 1 / K\n",
    "                    elif int(d_set[y, 0]) == 1:\n",
    "                        p_wk[1] = p_wk[1] + 1 / K\n",
    "                    else:\n",
    "                        p_wk[2] = p_wk[2] + 1 / K\n",
    "\n",
    "                # calculate accuracy\n",
    "                if p_wk.index(max(p_wk)) == test_data[x][4]:\n",
    "                    right += 1\n",
    "                    # right = right + 1\n",
    "            accuracy.append(right / len(test_data))\n",
    "        accuracy = np.array(accuracy)\n",
    "        average_acc.append(np.mean(accuracy))\n",
    "        print(f'Average accuracy of 5-fold cross-validation when K = {K} : {np.mean(accuracy)}')\n",
    "        print('--------------------------------------------------------------------------------')\n",
    "\n",
    "stop = timeit.default_timer()  # Stop timer for the running time of KNN algortihm\n",
    "print(f'Running time of Parzen Window with 5-fold cross validation: {stop - start}\\n')"
   ],
   "id": "9b6b0a49501566da",
   "outputs": [
    {
     "name": "stdout",
     "output_type": "stream",
     "text": [
      "Average accuracy of 5-fold cross-validation when K = 1 : 0.96\n",
      "--------------------------------------------------------------------------------\n",
      "Average accuracy of 5-fold cross-validation when K = 2 : 0.9466666666666667\n",
      "--------------------------------------------------------------------------------\n",
      "Average accuracy of 5-fold cross-validation when K = 4 : 0.96\n",
      "--------------------------------------------------------------------------------\n",
      "Average accuracy of 5-fold cross-validation when K = 5 : 0.9733333333333333\n",
      "--------------------------------------------------------------------------------\n",
      "Average accuracy of 5-fold cross-validation when K = 7 : 0.9800000000000001\n",
      "--------------------------------------------------------------------------------\n",
      "Average accuracy of 5-fold cross-validation when K = 8 : 0.9800000000000001\n",
      "--------------------------------------------------------------------------------\n",
      "Average accuracy of 5-fold cross-validation when K = 10 : 0.96\n",
      "--------------------------------------------------------------------------------\n",
      "Average accuracy of 5-fold cross-validation when K = 11 : 0.9733333333333334\n",
      "--------------------------------------------------------------------------------\n",
      "Average accuracy of 5-fold cross-validation when K = 13 : 0.9666666666666668\n",
      "--------------------------------------------------------------------------------\n",
      "Average accuracy of 5-fold cross-validation when K = 14 : 0.9600000000000002\n",
      "--------------------------------------------------------------------------------\n",
      "Average accuracy of 5-fold cross-validation when K = 16 : 0.96\n",
      "--------------------------------------------------------------------------------\n",
      "Average accuracy of 5-fold cross-validation when K = 17 : 0.9666666666666668\n",
      "--------------------------------------------------------------------------------\n",
      "Average accuracy of 5-fold cross-validation when K = 19 : 0.96\n",
      "--------------------------------------------------------------------------------\n",
      "Average accuracy of 5-fold cross-validation when K = 20 : 0.9533333333333334\n",
      "--------------------------------------------------------------------------------\n",
      "Average accuracy of 5-fold cross-validation when K = 22 : 0.9533333333333334\n",
      "--------------------------------------------------------------------------------\n",
      "Average accuracy of 5-fold cross-validation when K = 23 : 0.9533333333333334\n",
      "--------------------------------------------------------------------------------\n",
      "Average accuracy of 5-fold cross-validation when K = 25 : 0.9533333333333334\n",
      "--------------------------------------------------------------------------------\n",
      "Average accuracy of 5-fold cross-validation when K = 26 : 0.9466666666666667\n",
      "--------------------------------------------------------------------------------\n",
      "Average accuracy of 5-fold cross-validation when K = 28 : 0.9466666666666667\n",
      "--------------------------------------------------------------------------------\n",
      "Average accuracy of 5-fold cross-validation when K = 29 : 0.9600000000000002\n",
      "--------------------------------------------------------------------------------\n",
      "Average accuracy of 5-fold cross-validation when K = 31 : 0.9533333333333335\n",
      "--------------------------------------------------------------------------------\n",
      "Average accuracy of 5-fold cross-validation when K = 32 : 0.9466666666666667\n",
      "--------------------------------------------------------------------------------\n",
      "Average accuracy of 5-fold cross-validation when K = 34 : 0.9466666666666667\n",
      "--------------------------------------------------------------------------------\n",
      "Average accuracy of 5-fold cross-validation when K = 35 : 0.9400000000000001\n",
      "--------------------------------------------------------------------------------\n",
      "Average accuracy of 5-fold cross-validation when K = 37 : 0.9533333333333335\n",
      "--------------------------------------------------------------------------------\n",
      "Average accuracy of 5-fold cross-validation when K = 38 : 0.9466666666666667\n",
      "--------------------------------------------------------------------------------\n",
      "Average accuracy of 5-fold cross-validation when K = 40 : 0.9333333333333332\n",
      "--------------------------------------------------------------------------------\n",
      "Average accuracy of 5-fold cross-validation when K = 41 : 0.9266666666666665\n",
      "--------------------------------------------------------------------------------\n",
      "Average accuracy of 5-fold cross-validation when K = 43 : 0.9266666666666665\n",
      "--------------------------------------------------------------------------------\n",
      "Average accuracy of 5-fold cross-validation when K = 44 : 0.9266666666666667\n",
      "--------------------------------------------------------------------------------\n",
      "Average accuracy of 5-fold cross-validation when K = 46 : 0.9266666666666667\n",
      "--------------------------------------------------------------------------------\n",
      "Average accuracy of 5-fold cross-validation when K = 47 : 0.9266666666666665\n",
      "--------------------------------------------------------------------------------\n",
      "Average accuracy of 5-fold cross-validation when K = 49 : 0.9133333333333333\n",
      "--------------------------------------------------------------------------------\n",
      "Average accuracy of 5-fold cross-validation when K = 50 : 0.9066666666666666\n",
      "--------------------------------------------------------------------------------\n",
      "Average accuracy of 5-fold cross-validation when K = 52 : 0.9133333333333333\n",
      "--------------------------------------------------------------------------------\n",
      "Average accuracy of 5-fold cross-validation when K = 53 : 0.9199999999999999\n",
      "--------------------------------------------------------------------------------\n",
      "Average accuracy of 5-fold cross-validation when K = 55 : 0.9133333333333333\n",
      "--------------------------------------------------------------------------------\n",
      "Average accuracy of 5-fold cross-validation when K = 56 : 0.9\n",
      "--------------------------------------------------------------------------------\n",
      "Average accuracy of 5-fold cross-validation when K = 58 : 0.8933333333333333\n",
      "--------------------------------------------------------------------------------\n",
      "Average accuracy of 5-fold cross-validation when K = 59 : 0.8866666666666667\n",
      "--------------------------------------------------------------------------------\n",
      "Average accuracy of 5-fold cross-validation when K = 61 : 0.9\n",
      "--------------------------------------------------------------------------------\n",
      "Average accuracy of 5-fold cross-validation when K = 62 : 0.8866666666666667\n",
      "--------------------------------------------------------------------------------\n",
      "Average accuracy of 5-fold cross-validation when K = 64 : 0.8933333333333333\n",
      "--------------------------------------------------------------------------------\n",
      "Average accuracy of 5-fold cross-validation when K = 65 : 0.8800000000000001\n",
      "--------------------------------------------------------------------------------\n",
      "Average accuracy of 5-fold cross-validation when K = 67 : 0.9\n",
      "--------------------------------------------------------------------------------\n",
      "Average accuracy of 5-fold cross-validation when K = 68 : 0.8866666666666667\n",
      "--------------------------------------------------------------------------------\n",
      "Average accuracy of 5-fold cross-validation when K = 70 : 0.8866666666666667\n",
      "--------------------------------------------------------------------------------\n",
      "Average accuracy of 5-fold cross-validation when K = 71 : 0.8733333333333334\n",
      "--------------------------------------------------------------------------------\n",
      "Average accuracy of 5-fold cross-validation when K = 73 : 0.8\n",
      "--------------------------------------------------------------------------------\n",
      "Average accuracy of 5-fold cross-validation when K = 74 : 0.8\n",
      "--------------------------------------------------------------------------------\n",
      "Average accuracy of 5-fold cross-validation when K = 76 : 0.7066666666666667\n",
      "--------------------------------------------------------------------------------\n",
      "Average accuracy of 5-fold cross-validation when K = 77 : 0.7\n",
      "--------------------------------------------------------------------------------\n",
      "Average accuracy of 5-fold cross-validation when K = 79 : 0.64\n",
      "--------------------------------------------------------------------------------\n",
      "Average accuracy of 5-fold cross-validation when K = 80 : 0.6333333333333333\n",
      "--------------------------------------------------------------------------------\n",
      "Average accuracy of 5-fold cross-validation when K = 82 : 0.5799999999999998\n",
      "--------------------------------------------------------------------------------\n",
      "Average accuracy of 5-fold cross-validation when K = 83 : 0.5733333333333333\n",
      "--------------------------------------------------------------------------------\n",
      "Average accuracy of 5-fold cross-validation when K = 85 : 0.5533333333333333\n",
      "--------------------------------------------------------------------------------\n",
      "Average accuracy of 5-fold cross-validation when K = 86 : 0.5533333333333333\n",
      "--------------------------------------------------------------------------------\n",
      "Average accuracy of 5-fold cross-validation when K = 88 : 0.5066666666666666\n",
      "--------------------------------------------------------------------------------\n",
      "Average accuracy of 5-fold cross-validation when K = 89 : 0.5\n",
      "--------------------------------------------------------------------------------\n",
      "Average accuracy of 5-fold cross-validation when K = 91 : 0.5\n",
      "--------------------------------------------------------------------------------\n",
      "Average accuracy of 5-fold cross-validation when K = 92 : 0.5\n",
      "--------------------------------------------------------------------------------\n",
      "Average accuracy of 5-fold cross-validation when K = 94 : 0.5\n",
      "--------------------------------------------------------------------------------\n",
      "Average accuracy of 5-fold cross-validation when K = 95 : 0.5\n",
      "--------------------------------------------------------------------------------\n",
      "Average accuracy of 5-fold cross-validation when K = 97 : 0.5\n",
      "--------------------------------------------------------------------------------\n",
      "Average accuracy of 5-fold cross-validation when K = 98 : 0.5\n",
      "--------------------------------------------------------------------------------\n",
      "Average accuracy of 5-fold cross-validation when K = 100 : 0.48666666666666664\n",
      "--------------------------------------------------------------------------------\n",
      "Average accuracy of 5-fold cross-validation when K = 101 : 0.48666666666666664\n",
      "--------------------------------------------------------------------------------\n",
      "Average accuracy of 5-fold cross-validation when K = 103 : 0.48666666666666664\n",
      "--------------------------------------------------------------------------------\n",
      "Average accuracy of 5-fold cross-validation when K = 104 : 0.48666666666666664\n",
      "--------------------------------------------------------------------------------\n",
      "Average accuracy of 5-fold cross-validation when K = 106 : 0.4666666666666666\n",
      "--------------------------------------------------------------------------------\n",
      "Average accuracy of 5-fold cross-validation when K = 107 : 0.4666666666666666\n",
      "--------------------------------------------------------------------------------\n",
      "Average accuracy of 5-fold cross-validation when K = 109 : 0.4533333333333333\n",
      "--------------------------------------------------------------------------------\n",
      "Average accuracy of 5-fold cross-validation when K = 110 : 0.44666666666666666\n",
      "--------------------------------------------------------------------------------\n",
      "Average accuracy of 5-fold cross-validation when K = 112 : 0.42000000000000004\n",
      "--------------------------------------------------------------------------------\n",
      "Average accuracy of 5-fold cross-validation when K = 113 : 0.42666666666666664\n",
      "--------------------------------------------------------------------------------\n",
      "Average accuracy of 5-fold cross-validation when K = 115 : 0.3866666666666667\n",
      "--------------------------------------------------------------------------------\n",
      "Average accuracy of 5-fold cross-validation when K = 116 : 0.38\n",
      "--------------------------------------------------------------------------------\n",
      "Average accuracy of 5-fold cross-validation when K = 118 : 0.30666666666666664\n",
      "--------------------------------------------------------------------------------\n",
      "Average accuracy of 5-fold cross-validation when K = 119 : 0.24666666666666667\n",
      "--------------------------------------------------------------------------------\n",
      "Running time of Parzen Window with 5-fold cross validation: 4.2110502999858\n",
      "\n"
     ]
    }
   ],
   "execution_count": 6
  },
  {
   "metadata": {},
   "cell_type": "markdown",
   "source": "## Visualization of Average Accuracy of K",
   "id": "fea46e53ca67f420"
  },
  {
   "metadata": {
    "ExecuteTime": {
     "end_time": "2024-10-15T16:34:33.814208Z",
     "start_time": "2024-10-15T16:34:33.722372Z"
    }
   },
   "cell_type": "code",
   "source": [
    "plt.scatter(k_list, average_acc, color='blue')\n",
    "plt.title('KNN')\n",
    "plt.xlabel('hyperparameter K')\n",
    "plt.ylabel('average accuracy')\n",
    "plt.show()"
   ],
   "id": "93c6db46e0fa8d9f",
   "outputs": [
    {
     "data": {
      "text/plain": [
       "<Figure size 640x480 with 1 Axes>"
      ],
      "image/svg+xml": "<?xml version=\"1.0\" encoding=\"utf-8\" standalone=\"no\"?>\n<!DOCTYPE svg PUBLIC \"-//W3C//DTD SVG 1.1//EN\"\n  \"http://www.w3.org/Graphics/SVG/1.1/DTD/svg11.dtd\">\n<svg xmlns:xlink=\"http://www.w3.org/1999/xlink\" width=\"407.394375pt\" height=\"328.079562pt\" viewBox=\"0 0 407.394375 328.079562\" xmlns=\"http://www.w3.org/2000/svg\" version=\"1.1\">\n <metadata>\n  <rdf:RDF xmlns:dc=\"http://purl.org/dc/elements/1.1/\" xmlns:cc=\"http://creativecommons.org/ns#\" xmlns:rdf=\"http://www.w3.org/1999/02/22-rdf-syntax-ns#\">\n   <cc:Work>\n    <dc:type rdf:resource=\"http://purl.org/dc/dcmitype/StillImage\"/>\n    <dc:date>2024-10-16T00:34:33.787232</dc:date>\n    <dc:format>image/svg+xml</dc:format>\n    <dc:creator>\n     <cc:Agent>\n      <dc:title>Matplotlib v3.8.4, https://matplotlib.org/</dc:title>\n     </cc:Agent>\n    </dc:creator>\n   </cc:Work>\n  </rdf:RDF>\n </metadata>\n <defs>\n  <style type=\"text/css\">*{stroke-linejoin: round; stroke-linecap: butt}</style>\n </defs>\n <g id=\"figure_1\">\n  <g id=\"patch_1\">\n   <path d=\"M 0 328.079562 \nL 407.394375 328.079562 \nL 407.394375 0 \nL 0 0 \nz\n\" style=\"fill: #ffffff\"/>\n  </g>\n  <g id=\"axes_1\">\n   <g id=\"patch_2\">\n    <path d=\"M 43.074375 289.61925 \nL 400.194375 289.61925 \nL 400.194375 23.50725 \nL 43.074375 23.50725 \nz\n\" style=\"fill: #e5e5e5\"/>\n   </g>\n   <g id=\"matplotlib.axis_1\">\n    <g id=\"xtick_1\">\n     <g id=\"line2d_1\">\n      <path d=\"M 56.555793 289.61925 \nL 56.555793 23.50725 \n\" clip-path=\"url(#p89f8a7d416)\" style=\"fill: none; stroke: #ffffff; stroke-width: 0.8; stroke-linecap: round\"/>\n     </g>\n     <g id=\"text_1\">\n      <!-- 0 -->\n      <g style=\"fill: #555555\" transform=\"translate(53.775324 303.777062) scale(0.1 -0.1)\">\n       <defs>\n        <path id=\"ArialMT-30\" d=\"M 266 2259 \nQ 266 3072 433 3567 \nQ 600 4063 929 4331 \nQ 1259 4600 1759 4600 \nQ 2128 4600 2406 4451 \nQ 2684 4303 2865 4023 \nQ 3047 3744 3150 3342 \nQ 3253 2941 3253 2259 \nQ 3253 1453 3087 958 \nQ 2922 463 2592 192 \nQ 2263 -78 1759 -78 \nQ 1097 -78 719 397 \nQ 266 969 266 2259 \nz\nM 844 2259 \nQ 844 1131 1108 757 \nQ 1372 384 1759 384 \nQ 2147 384 2411 759 \nQ 2675 1134 2675 2259 \nQ 2675 3391 2411 3762 \nQ 2147 4134 1753 4134 \nQ 1366 4134 1134 3806 \nQ 844 3388 844 2259 \nz\n\" transform=\"scale(0.015625)\"/>\n       </defs>\n       <use xlink:href=\"#ArialMT-30\"/>\n      </g>\n     </g>\n    </g>\n    <g id=\"xtick_2\">\n     <g id=\"line2d_2\">\n      <path d=\"M 111.581987 289.61925 \nL 111.581987 23.50725 \n\" clip-path=\"url(#p89f8a7d416)\" style=\"fill: none; stroke: #ffffff; stroke-width: 0.8; stroke-linecap: round\"/>\n     </g>\n     <g id=\"text_2\">\n      <!-- 20 -->\n      <g style=\"fill: #555555\" transform=\"translate(106.021049 303.777062) scale(0.1 -0.1)\">\n       <defs>\n        <path id=\"ArialMT-32\" d=\"M 3222 541 \nL 3222 0 \nL 194 0 \nQ 188 203 259 391 \nQ 375 700 629 1000 \nQ 884 1300 1366 1694 \nQ 2113 2306 2375 2664 \nQ 2638 3022 2638 3341 \nQ 2638 3675 2398 3904 \nQ 2159 4134 1775 4134 \nQ 1369 4134 1125 3890 \nQ 881 3647 878 3216 \nL 300 3275 \nQ 359 3922 746 4261 \nQ 1134 4600 1788 4600 \nQ 2447 4600 2831 4234 \nQ 3216 3869 3216 3328 \nQ 3216 3053 3103 2787 \nQ 2991 2522 2730 2228 \nQ 2469 1934 1863 1422 \nQ 1356 997 1212 845 \nQ 1069 694 975 541 \nL 3222 541 \nz\n\" transform=\"scale(0.015625)\"/>\n       </defs>\n       <use xlink:href=\"#ArialMT-32\"/>\n       <use xlink:href=\"#ArialMT-30\" x=\"55.615234\"/>\n      </g>\n     </g>\n    </g>\n    <g id=\"xtick_3\">\n     <g id=\"line2d_3\">\n      <path d=\"M 166.608181 289.61925 \nL 166.608181 23.50725 \n\" clip-path=\"url(#p89f8a7d416)\" style=\"fill: none; stroke: #ffffff; stroke-width: 0.8; stroke-linecap: round\"/>\n     </g>\n     <g id=\"text_3\">\n      <!-- 40 -->\n      <g style=\"fill: #555555\" transform=\"translate(161.047243 303.777062) scale(0.1 -0.1)\">\n       <defs>\n        <path id=\"ArialMT-34\" d=\"M 2069 0 \nL 2069 1097 \nL 81 1097 \nL 81 1613 \nL 2172 4581 \nL 2631 4581 \nL 2631 1613 \nL 3250 1613 \nL 3250 1097 \nL 2631 1097 \nL 2631 0 \nL 2069 0 \nz\nM 2069 1613 \nL 2069 3678 \nL 634 1613 \nL 2069 1613 \nz\n\" transform=\"scale(0.015625)\"/>\n       </defs>\n       <use xlink:href=\"#ArialMT-34\"/>\n       <use xlink:href=\"#ArialMT-30\" x=\"55.615234\"/>\n      </g>\n     </g>\n    </g>\n    <g id=\"xtick_4\">\n     <g id=\"line2d_4\">\n      <path d=\"M 221.634375 289.61925 \nL 221.634375 23.50725 \n\" clip-path=\"url(#p89f8a7d416)\" style=\"fill: none; stroke: #ffffff; stroke-width: 0.8; stroke-linecap: round\"/>\n     </g>\n     <g id=\"text_4\">\n      <!-- 60 -->\n      <g style=\"fill: #555555\" transform=\"translate(216.073437 303.777062) scale(0.1 -0.1)\">\n       <defs>\n        <path id=\"ArialMT-36\" d=\"M 3184 3459 \nL 2625 3416 \nQ 2550 3747 2413 3897 \nQ 2184 4138 1850 4138 \nQ 1581 4138 1378 3988 \nQ 1113 3794 959 3422 \nQ 806 3050 800 2363 \nQ 1003 2672 1297 2822 \nQ 1591 2972 1913 2972 \nQ 2475 2972 2870 2558 \nQ 3266 2144 3266 1488 \nQ 3266 1056 3080 686 \nQ 2894 316 2569 119 \nQ 2244 -78 1831 -78 \nQ 1128 -78 684 439 \nQ 241 956 241 2144 \nQ 241 3472 731 4075 \nQ 1159 4600 1884 4600 \nQ 2425 4600 2770 4297 \nQ 3116 3994 3184 3459 \nz\nM 888 1484 \nQ 888 1194 1011 928 \nQ 1134 663 1356 523 \nQ 1578 384 1822 384 \nQ 2178 384 2434 671 \nQ 2691 959 2691 1453 \nQ 2691 1928 2437 2201 \nQ 2184 2475 1800 2475 \nQ 1419 2475 1153 2201 \nQ 888 1928 888 1484 \nz\n\" transform=\"scale(0.015625)\"/>\n       </defs>\n       <use xlink:href=\"#ArialMT-36\"/>\n       <use xlink:href=\"#ArialMT-30\" x=\"55.615234\"/>\n      </g>\n     </g>\n    </g>\n    <g id=\"xtick_5\">\n     <g id=\"line2d_5\">\n      <path d=\"M 276.660569 289.61925 \nL 276.660569 23.50725 \n\" clip-path=\"url(#p89f8a7d416)\" style=\"fill: none; stroke: #ffffff; stroke-width: 0.8; stroke-linecap: round\"/>\n     </g>\n     <g id=\"text_5\">\n      <!-- 80 -->\n      <g style=\"fill: #555555\" transform=\"translate(271.099632 303.777062) scale(0.1 -0.1)\">\n       <defs>\n        <path id=\"ArialMT-38\" d=\"M 1131 2484 \nQ 781 2613 612 2850 \nQ 444 3088 444 3419 \nQ 444 3919 803 4259 \nQ 1163 4600 1759 4600 \nQ 2359 4600 2725 4251 \nQ 3091 3903 3091 3403 \nQ 3091 3084 2923 2848 \nQ 2756 2613 2416 2484 \nQ 2838 2347 3058 2040 \nQ 3278 1734 3278 1309 \nQ 3278 722 2862 322 \nQ 2447 -78 1769 -78 \nQ 1091 -78 675 323 \nQ 259 725 259 1325 \nQ 259 1772 486 2073 \nQ 713 2375 1131 2484 \nz\nM 1019 3438 \nQ 1019 3113 1228 2906 \nQ 1438 2700 1772 2700 \nQ 2097 2700 2305 2904 \nQ 2513 3109 2513 3406 \nQ 2513 3716 2298 3927 \nQ 2084 4138 1766 4138 \nQ 1444 4138 1231 3931 \nQ 1019 3725 1019 3438 \nz\nM 838 1322 \nQ 838 1081 952 856 \nQ 1066 631 1291 507 \nQ 1516 384 1775 384 \nQ 2178 384 2440 643 \nQ 2703 903 2703 1303 \nQ 2703 1709 2433 1975 \nQ 2163 2241 1756 2241 \nQ 1359 2241 1098 1978 \nQ 838 1716 838 1322 \nz\n\" transform=\"scale(0.015625)\"/>\n       </defs>\n       <use xlink:href=\"#ArialMT-38\"/>\n       <use xlink:href=\"#ArialMT-30\" x=\"55.615234\"/>\n      </g>\n     </g>\n    </g>\n    <g id=\"xtick_6\">\n     <g id=\"line2d_6\">\n      <path d=\"M 331.686763 289.61925 \nL 331.686763 23.50725 \n\" clip-path=\"url(#p89f8a7d416)\" style=\"fill: none; stroke: #ffffff; stroke-width: 0.8; stroke-linecap: round\"/>\n     </g>\n     <g id=\"text_6\">\n      <!-- 100 -->\n      <g style=\"fill: #555555\" transform=\"translate(323.345357 303.777062) scale(0.1 -0.1)\">\n       <defs>\n        <path id=\"ArialMT-31\" d=\"M 2384 0 \nL 1822 0 \nL 1822 3584 \nQ 1619 3391 1289 3197 \nQ 959 3003 697 2906 \nL 697 3450 \nQ 1169 3672 1522 3987 \nQ 1875 4303 2022 4600 \nL 2384 4600 \nL 2384 0 \nz\n\" transform=\"scale(0.015625)\"/>\n       </defs>\n       <use xlink:href=\"#ArialMT-31\"/>\n       <use xlink:href=\"#ArialMT-30\" x=\"55.615234\"/>\n       <use xlink:href=\"#ArialMT-30\" x=\"111.230469\"/>\n      </g>\n     </g>\n    </g>\n    <g id=\"xtick_7\">\n     <g id=\"line2d_7\">\n      <path d=\"M 386.712957 289.61925 \nL 386.712957 23.50725 \n\" clip-path=\"url(#p89f8a7d416)\" style=\"fill: none; stroke: #ffffff; stroke-width: 0.8; stroke-linecap: round\"/>\n     </g>\n     <g id=\"text_7\">\n      <!-- 120 -->\n      <g style=\"fill: #555555\" transform=\"translate(378.371551 303.777062) scale(0.1 -0.1)\">\n       <use xlink:href=\"#ArialMT-31\"/>\n       <use xlink:href=\"#ArialMT-32\" x=\"55.615234\"/>\n       <use xlink:href=\"#ArialMT-30\" x=\"111.230469\"/>\n      </g>\n     </g>\n    </g>\n    <g id=\"text_8\">\n     <!-- hyperparameter K -->\n     <g style=\"fill: #555555\" transform=\"translate(173.614688 318.353937) scale(0.12 -0.12)\">\n      <defs>\n       <path id=\"ArialMT-68\" d=\"M 422 0 \nL 422 4581 \nL 984 4581 \nL 984 2938 \nQ 1378 3394 1978 3394 \nQ 2347 3394 2619 3248 \nQ 2891 3103 3008 2847 \nQ 3125 2591 3125 2103 \nL 3125 0 \nL 2563 0 \nL 2563 2103 \nQ 2563 2525 2380 2717 \nQ 2197 2909 1863 2909 \nQ 1613 2909 1392 2779 \nQ 1172 2650 1078 2428 \nQ 984 2206 984 1816 \nL 984 0 \nL 422 0 \nz\n\" transform=\"scale(0.015625)\"/>\n       <path id=\"ArialMT-79\" d=\"M 397 -1278 \nL 334 -750 \nQ 519 -800 656 -800 \nQ 844 -800 956 -737 \nQ 1069 -675 1141 -563 \nQ 1194 -478 1313 -144 \nQ 1328 -97 1363 -6 \nL 103 3319 \nL 709 3319 \nL 1400 1397 \nQ 1534 1031 1641 628 \nQ 1738 1016 1872 1384 \nL 2581 3319 \nL 3144 3319 \nL 1881 -56 \nQ 1678 -603 1566 -809 \nQ 1416 -1088 1222 -1217 \nQ 1028 -1347 759 -1347 \nQ 597 -1347 397 -1278 \nz\n\" transform=\"scale(0.015625)\"/>\n       <path id=\"ArialMT-70\" d=\"M 422 -1272 \nL 422 3319 \nL 934 3319 \nL 934 2888 \nQ 1116 3141 1344 3267 \nQ 1572 3394 1897 3394 \nQ 2322 3394 2647 3175 \nQ 2972 2956 3137 2557 \nQ 3303 2159 3303 1684 \nQ 3303 1175 3120 767 \nQ 2938 359 2589 142 \nQ 2241 -75 1856 -75 \nQ 1575 -75 1351 44 \nQ 1128 163 984 344 \nL 984 -1272 \nL 422 -1272 \nz\nM 931 1641 \nQ 931 1000 1190 694 \nQ 1450 388 1819 388 \nQ 2194 388 2461 705 \nQ 2728 1022 2728 1688 \nQ 2728 2322 2467 2637 \nQ 2206 2953 1844 2953 \nQ 1484 2953 1207 2617 \nQ 931 2281 931 1641 \nz\n\" transform=\"scale(0.015625)\"/>\n       <path id=\"ArialMT-65\" d=\"M 2694 1069 \nL 3275 997 \nQ 3138 488 2766 206 \nQ 2394 -75 1816 -75 \nQ 1088 -75 661 373 \nQ 234 822 234 1631 \nQ 234 2469 665 2931 \nQ 1097 3394 1784 3394 \nQ 2450 3394 2872 2941 \nQ 3294 2488 3294 1666 \nQ 3294 1616 3291 1516 \nL 816 1516 \nQ 847 969 1125 678 \nQ 1403 388 1819 388 \nQ 2128 388 2347 550 \nQ 2566 713 2694 1069 \nz\nM 847 1978 \nL 2700 1978 \nQ 2663 2397 2488 2606 \nQ 2219 2931 1791 2931 \nQ 1403 2931 1139 2672 \nQ 875 2413 847 1978 \nz\n\" transform=\"scale(0.015625)\"/>\n       <path id=\"ArialMT-72\" d=\"M 416 0 \nL 416 3319 \nL 922 3319 \nL 922 2816 \nQ 1116 3169 1280 3281 \nQ 1444 3394 1641 3394 \nQ 1925 3394 2219 3213 \nL 2025 2691 \nQ 1819 2813 1613 2813 \nQ 1428 2813 1281 2702 \nQ 1134 2591 1072 2394 \nQ 978 2094 978 1738 \nL 978 0 \nL 416 0 \nz\n\" transform=\"scale(0.015625)\"/>\n       <path id=\"ArialMT-61\" d=\"M 2588 409 \nQ 2275 144 1986 34 \nQ 1697 -75 1366 -75 \nQ 819 -75 525 192 \nQ 231 459 231 875 \nQ 231 1119 342 1320 \nQ 453 1522 633 1644 \nQ 813 1766 1038 1828 \nQ 1203 1872 1538 1913 \nQ 2219 1994 2541 2106 \nQ 2544 2222 2544 2253 \nQ 2544 2597 2384 2738 \nQ 2169 2928 1744 2928 \nQ 1347 2928 1158 2789 \nQ 969 2650 878 2297 \nL 328 2372 \nQ 403 2725 575 2942 \nQ 747 3159 1072 3276 \nQ 1397 3394 1825 3394 \nQ 2250 3394 2515 3294 \nQ 2781 3194 2906 3042 \nQ 3031 2891 3081 2659 \nQ 3109 2516 3109 2141 \nL 3109 1391 \nQ 3109 606 3145 398 \nQ 3181 191 3288 0 \nL 2700 0 \nQ 2613 175 2588 409 \nz\nM 2541 1666 \nQ 2234 1541 1622 1453 \nQ 1275 1403 1131 1340 \nQ 988 1278 909 1158 \nQ 831 1038 831 891 \nQ 831 666 1001 516 \nQ 1172 366 1500 366 \nQ 1825 366 2078 508 \nQ 2331 650 2450 897 \nQ 2541 1088 2541 1459 \nL 2541 1666 \nz\n\" transform=\"scale(0.015625)\"/>\n       <path id=\"ArialMT-6d\" d=\"M 422 0 \nL 422 3319 \nL 925 3319 \nL 925 2853 \nQ 1081 3097 1340 3245 \nQ 1600 3394 1931 3394 \nQ 2300 3394 2536 3241 \nQ 2772 3088 2869 2813 \nQ 3263 3394 3894 3394 \nQ 4388 3394 4653 3120 \nQ 4919 2847 4919 2278 \nL 4919 0 \nL 4359 0 \nL 4359 2091 \nQ 4359 2428 4304 2576 \nQ 4250 2725 4106 2815 \nQ 3963 2906 3769 2906 \nQ 3419 2906 3187 2673 \nQ 2956 2441 2956 1928 \nL 2956 0 \nL 2394 0 \nL 2394 2156 \nQ 2394 2531 2256 2718 \nQ 2119 2906 1806 2906 \nQ 1569 2906 1367 2781 \nQ 1166 2656 1075 2415 \nQ 984 2175 984 1722 \nL 984 0 \nL 422 0 \nz\n\" transform=\"scale(0.015625)\"/>\n       <path id=\"ArialMT-74\" d=\"M 1650 503 \nL 1731 6 \nQ 1494 -44 1306 -44 \nQ 1000 -44 831 53 \nQ 663 150 594 308 \nQ 525 466 525 972 \nL 525 2881 \nL 113 2881 \nL 113 3319 \nL 525 3319 \nL 525 4141 \nL 1084 4478 \nL 1084 3319 \nL 1650 3319 \nL 1650 2881 \nL 1084 2881 \nL 1084 941 \nQ 1084 700 1114 631 \nQ 1144 563 1211 522 \nQ 1278 481 1403 481 \nQ 1497 481 1650 503 \nz\n\" transform=\"scale(0.015625)\"/>\n       <path id=\"ArialMT-20\" transform=\"scale(0.015625)\"/>\n       <path id=\"ArialMT-4b\" d=\"M 469 0 \nL 469 4581 \nL 1075 4581 \nL 1075 2309 \nL 3350 4581 \nL 4172 4581 \nL 2250 2725 \nL 4256 0 \nL 3456 0 \nL 1825 2319 \nL 1075 1588 \nL 1075 0 \nL 469 0 \nz\n\" transform=\"scale(0.015625)\"/>\n      </defs>\n      <use xlink:href=\"#ArialMT-68\"/>\n      <use xlink:href=\"#ArialMT-79\" x=\"55.615234\"/>\n      <use xlink:href=\"#ArialMT-70\" x=\"105.615234\"/>\n      <use xlink:href=\"#ArialMT-65\" x=\"161.230469\"/>\n      <use xlink:href=\"#ArialMT-72\" x=\"216.845703\"/>\n      <use xlink:href=\"#ArialMT-70\" x=\"250.146484\"/>\n      <use xlink:href=\"#ArialMT-61\" x=\"305.761719\"/>\n      <use xlink:href=\"#ArialMT-72\" x=\"361.376953\"/>\n      <use xlink:href=\"#ArialMT-61\" x=\"394.677734\"/>\n      <use xlink:href=\"#ArialMT-6d\" x=\"450.292969\"/>\n      <use xlink:href=\"#ArialMT-65\" x=\"533.59375\"/>\n      <use xlink:href=\"#ArialMT-74\" x=\"589.208984\"/>\n      <use xlink:href=\"#ArialMT-65\" x=\"616.992188\"/>\n      <use xlink:href=\"#ArialMT-72\" x=\"672.607422\"/>\n      <use xlink:href=\"#ArialMT-20\" x=\"705.908203\"/>\n      <use xlink:href=\"#ArialMT-4b\" x=\"733.691406\"/>\n     </g>\n    </g>\n   </g>\n   <g id=\"matplotlib.axis_2\">\n    <g id=\"ytick_1\">\n     <g id=\"line2d_8\">\n      <path d=\"M 43.074375 259.929068 \nL 400.194375 259.929068 \n\" clip-path=\"url(#p89f8a7d416)\" style=\"fill: none; stroke: #ffffff; stroke-width: 0.8; stroke-linecap: round\"/>\n     </g>\n     <g id=\"text_9\">\n      <!-- 0.3 -->\n      <g style=\"fill: #555555\" transform=\"translate(22.174375 263.507974) scale(0.1 -0.1)\">\n       <defs>\n        <path id=\"ArialMT-2e\" d=\"M 581 0 \nL 581 641 \nL 1222 641 \nL 1222 0 \nL 581 0 \nz\n\" transform=\"scale(0.015625)\"/>\n        <path id=\"ArialMT-33\" d=\"M 269 1209 \nL 831 1284 \nQ 928 806 1161 595 \nQ 1394 384 1728 384 \nQ 2125 384 2398 659 \nQ 2672 934 2672 1341 \nQ 2672 1728 2419 1979 \nQ 2166 2231 1775 2231 \nQ 1616 2231 1378 2169 \nL 1441 2663 \nQ 1497 2656 1531 2656 \nQ 1891 2656 2178 2843 \nQ 2466 3031 2466 3422 \nQ 2466 3731 2256 3934 \nQ 2047 4138 1716 4138 \nQ 1388 4138 1169 3931 \nQ 950 3725 888 3313 \nL 325 3413 \nQ 428 3978 793 4289 \nQ 1159 4600 1703 4600 \nQ 2078 4600 2393 4439 \nQ 2709 4278 2876 4000 \nQ 3044 3722 3044 3409 \nQ 3044 3113 2884 2869 \nQ 2725 2625 2413 2481 \nQ 2819 2388 3044 2092 \nQ 3269 1797 3269 1353 \nQ 3269 753 2831 336 \nQ 2394 -81 1725 -81 \nQ 1122 -81 723 278 \nQ 325 638 269 1209 \nz\n\" transform=\"scale(0.015625)\"/>\n       </defs>\n       <use xlink:href=\"#ArialMT-30\"/>\n       <use xlink:href=\"#ArialMT-2e\" x=\"55.615234\"/>\n       <use xlink:href=\"#ArialMT-33\" x=\"83.398438\"/>\n      </g>\n     </g>\n    </g>\n    <g id=\"ytick_2\">\n     <g id=\"line2d_9\">\n      <path d=\"M 43.074375 226.939977 \nL 400.194375 226.939977 \n\" clip-path=\"url(#p89f8a7d416)\" style=\"fill: none; stroke: #ffffff; stroke-width: 0.8; stroke-linecap: round\"/>\n     </g>\n     <g id=\"text_10\">\n      <!-- 0.4 -->\n      <g style=\"fill: #555555\" transform=\"translate(22.174375 230.518884) scale(0.1 -0.1)\">\n       <use xlink:href=\"#ArialMT-30\"/>\n       <use xlink:href=\"#ArialMT-2e\" x=\"55.615234\"/>\n       <use xlink:href=\"#ArialMT-34\" x=\"83.398438\"/>\n      </g>\n     </g>\n    </g>\n    <g id=\"ytick_3\">\n     <g id=\"line2d_10\">\n      <path d=\"M 43.074375 193.950886 \nL 400.194375 193.950886 \n\" clip-path=\"url(#p89f8a7d416)\" style=\"fill: none; stroke: #ffffff; stroke-width: 0.8; stroke-linecap: round\"/>\n     </g>\n     <g id=\"text_11\">\n      <!-- 0.5 -->\n      <g style=\"fill: #555555\" transform=\"translate(22.174375 197.529793) scale(0.1 -0.1)\">\n       <defs>\n        <path id=\"ArialMT-35\" d=\"M 266 1200 \nL 856 1250 \nQ 922 819 1161 601 \nQ 1400 384 1738 384 \nQ 2144 384 2425 690 \nQ 2706 997 2706 1503 \nQ 2706 1984 2436 2262 \nQ 2166 2541 1728 2541 \nQ 1456 2541 1237 2417 \nQ 1019 2294 894 2097 \nL 366 2166 \nL 809 4519 \nL 3088 4519 \nL 3088 3981 \nL 1259 3981 \nL 1013 2750 \nQ 1425 3038 1878 3038 \nQ 2478 3038 2890 2622 \nQ 3303 2206 3303 1553 \nQ 3303 931 2941 478 \nQ 2500 -78 1738 -78 \nQ 1113 -78 717 272 \nQ 322 622 266 1200 \nz\n\" transform=\"scale(0.015625)\"/>\n       </defs>\n       <use xlink:href=\"#ArialMT-30\"/>\n       <use xlink:href=\"#ArialMT-2e\" x=\"55.615234\"/>\n       <use xlink:href=\"#ArialMT-35\" x=\"83.398438\"/>\n      </g>\n     </g>\n    </g>\n    <g id=\"ytick_4\">\n     <g id=\"line2d_11\">\n      <path d=\"M 43.074375 160.961795 \nL 400.194375 160.961795 \n\" clip-path=\"url(#p89f8a7d416)\" style=\"fill: none; stroke: #ffffff; stroke-width: 0.8; stroke-linecap: round\"/>\n     </g>\n     <g id=\"text_12\">\n      <!-- 0.6 -->\n      <g style=\"fill: #555555\" transform=\"translate(22.174375 164.540702) scale(0.1 -0.1)\">\n       <use xlink:href=\"#ArialMT-30\"/>\n       <use xlink:href=\"#ArialMT-2e\" x=\"55.615234\"/>\n       <use xlink:href=\"#ArialMT-36\" x=\"83.398438\"/>\n      </g>\n     </g>\n    </g>\n    <g id=\"ytick_5\">\n     <g id=\"line2d_12\">\n      <path d=\"M 43.074375 127.972705 \nL 400.194375 127.972705 \n\" clip-path=\"url(#p89f8a7d416)\" style=\"fill: none; stroke: #ffffff; stroke-width: 0.8; stroke-linecap: round\"/>\n     </g>\n     <g id=\"text_13\">\n      <!-- 0.7 -->\n      <g style=\"fill: #555555\" transform=\"translate(22.174375 131.551611) scale(0.1 -0.1)\">\n       <defs>\n        <path id=\"ArialMT-37\" d=\"M 303 3981 \nL 303 4522 \nL 3269 4522 \nL 3269 4084 \nQ 2831 3619 2401 2847 \nQ 1972 2075 1738 1259 \nQ 1569 684 1522 0 \nL 944 0 \nQ 953 541 1156 1306 \nQ 1359 2072 1739 2783 \nQ 2119 3494 2547 3981 \nL 303 3981 \nz\n\" transform=\"scale(0.015625)\"/>\n       </defs>\n       <use xlink:href=\"#ArialMT-30\"/>\n       <use xlink:href=\"#ArialMT-2e\" x=\"55.615234\"/>\n       <use xlink:href=\"#ArialMT-37\" x=\"83.398438\"/>\n      </g>\n     </g>\n    </g>\n    <g id=\"ytick_6\">\n     <g id=\"line2d_13\">\n      <path d=\"M 43.074375 94.983614 \nL 400.194375 94.983614 \n\" clip-path=\"url(#p89f8a7d416)\" style=\"fill: none; stroke: #ffffff; stroke-width: 0.8; stroke-linecap: round\"/>\n     </g>\n     <g id=\"text_14\">\n      <!-- 0.8 -->\n      <g style=\"fill: #555555\" transform=\"translate(22.174375 98.56252) scale(0.1 -0.1)\">\n       <use xlink:href=\"#ArialMT-30\"/>\n       <use xlink:href=\"#ArialMT-2e\" x=\"55.615234\"/>\n       <use xlink:href=\"#ArialMT-38\" x=\"83.398438\"/>\n      </g>\n     </g>\n    </g>\n    <g id=\"ytick_7\">\n     <g id=\"line2d_14\">\n      <path d=\"M 43.074375 61.994523 \nL 400.194375 61.994523 \n\" clip-path=\"url(#p89f8a7d416)\" style=\"fill: none; stroke: #ffffff; stroke-width: 0.8; stroke-linecap: round\"/>\n     </g>\n     <g id=\"text_15\">\n      <!-- 0.9 -->\n      <g style=\"fill: #555555\" transform=\"translate(22.174375 65.573429) scale(0.1 -0.1)\">\n       <defs>\n        <path id=\"ArialMT-39\" d=\"M 350 1059 \nL 891 1109 \nQ 959 728 1153 556 \nQ 1347 384 1650 384 \nQ 1909 384 2104 503 \nQ 2300 622 2425 820 \nQ 2550 1019 2634 1356 \nQ 2719 1694 2719 2044 \nQ 2719 2081 2716 2156 \nQ 2547 1888 2255 1720 \nQ 1963 1553 1622 1553 \nQ 1053 1553 659 1965 \nQ 266 2378 266 3053 \nQ 266 3750 677 4175 \nQ 1088 4600 1706 4600 \nQ 2153 4600 2523 4359 \nQ 2894 4119 3086 3673 \nQ 3278 3228 3278 2384 \nQ 3278 1506 3087 986 \nQ 2897 466 2520 194 \nQ 2144 -78 1638 -78 \nQ 1100 -78 759 220 \nQ 419 519 350 1059 \nz\nM 2653 3081 \nQ 2653 3566 2395 3850 \nQ 2138 4134 1775 4134 \nQ 1400 4134 1122 3828 \nQ 844 3522 844 3034 \nQ 844 2597 1108 2323 \nQ 1372 2050 1759 2050 \nQ 2150 2050 2401 2323 \nQ 2653 2597 2653 3081 \nz\n\" transform=\"scale(0.015625)\"/>\n       </defs>\n       <use xlink:href=\"#ArialMT-30\"/>\n       <use xlink:href=\"#ArialMT-2e\" x=\"55.615234\"/>\n       <use xlink:href=\"#ArialMT-39\" x=\"83.398438\"/>\n      </g>\n     </g>\n    </g>\n    <g id=\"ytick_8\">\n     <g id=\"line2d_15\">\n      <path d=\"M 43.074375 29.005432 \nL 400.194375 29.005432 \n\" clip-path=\"url(#p89f8a7d416)\" style=\"fill: none; stroke: #ffffff; stroke-width: 0.8; stroke-linecap: round\"/>\n     </g>\n     <g id=\"text_16\">\n      <!-- 1.0 -->\n      <g style=\"fill: #555555\" transform=\"translate(22.174375 32.584338) scale(0.1 -0.1)\">\n       <use xlink:href=\"#ArialMT-31\"/>\n       <use xlink:href=\"#ArialMT-2e\" x=\"55.615234\"/>\n       <use xlink:href=\"#ArialMT-30\" x=\"83.398438\"/>\n      </g>\n     </g>\n    </g>\n    <g id=\"text_17\">\n     <!-- average accuracy -->\n     <g style=\"fill: #555555\" transform=\"translate(15.64875 203.91825) rotate(-90) scale(0.12 -0.12)\">\n      <defs>\n       <path id=\"ArialMT-76\" d=\"M 1344 0 \nL 81 3319 \nL 675 3319 \nL 1388 1331 \nQ 1503 1009 1600 663 \nQ 1675 925 1809 1294 \nL 2547 3319 \nL 3125 3319 \nL 1869 0 \nL 1344 0 \nz\n\" transform=\"scale(0.015625)\"/>\n       <path id=\"ArialMT-67\" d=\"M 319 -275 \nL 866 -356 \nQ 900 -609 1056 -725 \nQ 1266 -881 1628 -881 \nQ 2019 -881 2231 -725 \nQ 2444 -569 2519 -288 \nQ 2563 -116 2559 434 \nQ 2191 0 1641 0 \nQ 956 0 581 494 \nQ 206 988 206 1678 \nQ 206 2153 378 2554 \nQ 550 2956 876 3175 \nQ 1203 3394 1644 3394 \nQ 2231 3394 2613 2919 \nL 2613 3319 \nL 3131 3319 \nL 3131 450 \nQ 3131 -325 2973 -648 \nQ 2816 -972 2473 -1159 \nQ 2131 -1347 1631 -1347 \nQ 1038 -1347 672 -1080 \nQ 306 -813 319 -275 \nz\nM 784 1719 \nQ 784 1066 1043 766 \nQ 1303 466 1694 466 \nQ 2081 466 2343 764 \nQ 2606 1063 2606 1700 \nQ 2606 2309 2336 2618 \nQ 2066 2928 1684 2928 \nQ 1309 2928 1046 2623 \nQ 784 2319 784 1719 \nz\n\" transform=\"scale(0.015625)\"/>\n       <path id=\"ArialMT-63\" d=\"M 2588 1216 \nL 3141 1144 \nQ 3050 572 2676 248 \nQ 2303 -75 1759 -75 \nQ 1078 -75 664 370 \nQ 250 816 250 1647 \nQ 250 2184 428 2587 \nQ 606 2991 970 3192 \nQ 1334 3394 1763 3394 \nQ 2303 3394 2647 3120 \nQ 2991 2847 3088 2344 \nL 2541 2259 \nQ 2463 2594 2264 2762 \nQ 2066 2931 1784 2931 \nQ 1359 2931 1093 2626 \nQ 828 2322 828 1663 \nQ 828 994 1084 691 \nQ 1341 388 1753 388 \nQ 2084 388 2306 591 \nQ 2528 794 2588 1216 \nz\n\" transform=\"scale(0.015625)\"/>\n       <path id=\"ArialMT-75\" d=\"M 2597 0 \nL 2597 488 \nQ 2209 -75 1544 -75 \nQ 1250 -75 995 37 \nQ 741 150 617 320 \nQ 494 491 444 738 \nQ 409 903 409 1263 \nL 409 3319 \nL 972 3319 \nL 972 1478 \nQ 972 1038 1006 884 \nQ 1059 663 1231 536 \nQ 1403 409 1656 409 \nQ 1909 409 2131 539 \nQ 2353 669 2445 892 \nQ 2538 1116 2538 1541 \nL 2538 3319 \nL 3100 3319 \nL 3100 0 \nL 2597 0 \nz\n\" transform=\"scale(0.015625)\"/>\n      </defs>\n      <use xlink:href=\"#ArialMT-61\"/>\n      <use xlink:href=\"#ArialMT-76\" x=\"55.615234\"/>\n      <use xlink:href=\"#ArialMT-65\" x=\"105.615234\"/>\n      <use xlink:href=\"#ArialMT-72\" x=\"161.230469\"/>\n      <use xlink:href=\"#ArialMT-61\" x=\"194.53125\"/>\n      <use xlink:href=\"#ArialMT-67\" x=\"250.146484\"/>\n      <use xlink:href=\"#ArialMT-65\" x=\"305.761719\"/>\n      <use xlink:href=\"#ArialMT-20\" x=\"361.376953\"/>\n      <use xlink:href=\"#ArialMT-61\" x=\"389.160156\"/>\n      <use xlink:href=\"#ArialMT-63\" x=\"444.775391\"/>\n      <use xlink:href=\"#ArialMT-63\" x=\"494.775391\"/>\n      <use xlink:href=\"#ArialMT-75\" x=\"544.775391\"/>\n      <use xlink:href=\"#ArialMT-72\" x=\"600.390625\"/>\n      <use xlink:href=\"#ArialMT-61\" x=\"633.691406\"/>\n      <use xlink:href=\"#ArialMT-63\" x=\"689.306641\"/>\n      <use xlink:href=\"#ArialMT-79\" x=\"739.306641\"/>\n     </g>\n    </g>\n   </g>\n   <g id=\"PathCollection_1\">\n    <defs>\n     <path id=\"mf1cbd6f618\" d=\"M 0 3 \nC 0.795609 3 1.55874 2.683901 2.12132 2.12132 \nC 2.683901 1.55874 3 0.795609 3 0 \nC 3 -0.795609 2.683901 -1.55874 2.12132 -2.12132 \nC 1.55874 -2.683901 0.795609 -3 0 -3 \nC -0.795609 -3 -1.55874 -2.683901 -2.12132 -2.12132 \nC -2.683901 -1.55874 -3 -0.795609 -3 0 \nC -3 0.795609 -2.683901 1.55874 -2.12132 2.12132 \nC -1.55874 2.683901 -0.795609 3 0 3 \nz\n\" style=\"stroke: #0000ff; stroke-width: 0.5\"/>\n    </defs>\n    <g clip-path=\"url(#p89f8a7d416)\">\n     <use xlink:href=\"#mf1cbd6f618\" x=\"59.307102\" y=\"42.201068\" style=\"fill: #0000ff; stroke: #0000ff; stroke-width: 0.5\"/>\n     <use xlink:href=\"#mf1cbd6f618\" x=\"62.058412\" y=\"46.599614\" style=\"fill: #0000ff; stroke: #0000ff; stroke-width: 0.5\"/>\n     <use xlink:href=\"#mf1cbd6f618\" x=\"67.561031\" y=\"42.201068\" style=\"fill: #0000ff; stroke: #0000ff; stroke-width: 0.5\"/>\n     <use xlink:href=\"#mf1cbd6f618\" x=\"70.312341\" y=\"37.802523\" style=\"fill: #0000ff; stroke: #0000ff; stroke-width: 0.5\"/>\n     <use xlink:href=\"#mf1cbd6f618\" x=\"75.814961\" y=\"35.60325\" style=\"fill: #0000ff; stroke: #0000ff; stroke-width: 0.5\"/>\n     <use xlink:href=\"#mf1cbd6f618\" x=\"78.56627\" y=\"35.60325\" style=\"fill: #0000ff; stroke: #0000ff; stroke-width: 0.5\"/>\n     <use xlink:href=\"#mf1cbd6f618\" x=\"84.06889\" y=\"42.201068\" style=\"fill: #0000ff; stroke: #0000ff; stroke-width: 0.5\"/>\n     <use xlink:href=\"#mf1cbd6f618\" x=\"86.820199\" y=\"37.802523\" style=\"fill: #0000ff; stroke: #0000ff; stroke-width: 0.5\"/>\n     <use xlink:href=\"#mf1cbd6f618\" x=\"92.322819\" y=\"40.001795\" style=\"fill: #0000ff; stroke: #0000ff; stroke-width: 0.5\"/>\n     <use xlink:href=\"#mf1cbd6f618\" x=\"95.074128\" y=\"42.201068\" style=\"fill: #0000ff; stroke: #0000ff; stroke-width: 0.5\"/>\n     <use xlink:href=\"#mf1cbd6f618\" x=\"100.576748\" y=\"42.201068\" style=\"fill: #0000ff; stroke: #0000ff; stroke-width: 0.5\"/>\n     <use xlink:href=\"#mf1cbd6f618\" x=\"103.328058\" y=\"40.001795\" style=\"fill: #0000ff; stroke: #0000ff; stroke-width: 0.5\"/>\n     <use xlink:href=\"#mf1cbd6f618\" x=\"108.830677\" y=\"42.201068\" style=\"fill: #0000ff; stroke: #0000ff; stroke-width: 0.5\"/>\n     <use xlink:href=\"#mf1cbd6f618\" x=\"111.581987\" y=\"44.400341\" style=\"fill: #0000ff; stroke: #0000ff; stroke-width: 0.5\"/>\n     <use xlink:href=\"#mf1cbd6f618\" x=\"117.084606\" y=\"44.400341\" style=\"fill: #0000ff; stroke: #0000ff; stroke-width: 0.5\"/>\n     <use xlink:href=\"#mf1cbd6f618\" x=\"119.835916\" y=\"44.400341\" style=\"fill: #0000ff; stroke: #0000ff; stroke-width: 0.5\"/>\n     <use xlink:href=\"#mf1cbd6f618\" x=\"125.338535\" y=\"44.400341\" style=\"fill: #0000ff; stroke: #0000ff; stroke-width: 0.5\"/>\n     <use xlink:href=\"#mf1cbd6f618\" x=\"128.089845\" y=\"46.599614\" style=\"fill: #0000ff; stroke: #0000ff; stroke-width: 0.5\"/>\n     <use xlink:href=\"#mf1cbd6f618\" x=\"133.592464\" y=\"46.599614\" style=\"fill: #0000ff; stroke: #0000ff; stroke-width: 0.5\"/>\n     <use xlink:href=\"#mf1cbd6f618\" x=\"136.343774\" y=\"42.201068\" style=\"fill: #0000ff; stroke: #0000ff; stroke-width: 0.5\"/>\n     <use xlink:href=\"#mf1cbd6f618\" x=\"141.846393\" y=\"44.400341\" style=\"fill: #0000ff; stroke: #0000ff; stroke-width: 0.5\"/>\n     <use xlink:href=\"#mf1cbd6f618\" x=\"144.597703\" y=\"46.599614\" style=\"fill: #0000ff; stroke: #0000ff; stroke-width: 0.5\"/>\n     <use xlink:href=\"#mf1cbd6f618\" x=\"150.100323\" y=\"46.599614\" style=\"fill: #0000ff; stroke: #0000ff; stroke-width: 0.5\"/>\n     <use xlink:href=\"#mf1cbd6f618\" x=\"152.851632\" y=\"48.798886\" style=\"fill: #0000ff; stroke: #0000ff; stroke-width: 0.5\"/>\n     <use xlink:href=\"#mf1cbd6f618\" x=\"158.354252\" y=\"44.400341\" style=\"fill: #0000ff; stroke: #0000ff; stroke-width: 0.5\"/>\n     <use xlink:href=\"#mf1cbd6f618\" x=\"161.105561\" y=\"46.599614\" style=\"fill: #0000ff; stroke: #0000ff; stroke-width: 0.5\"/>\n     <use xlink:href=\"#mf1cbd6f618\" x=\"166.608181\" y=\"50.998159\" style=\"fill: #0000ff; stroke: #0000ff; stroke-width: 0.5\"/>\n     <use xlink:href=\"#mf1cbd6f618\" x=\"169.359491\" y=\"53.197432\" style=\"fill: #0000ff; stroke: #0000ff; stroke-width: 0.5\"/>\n     <use xlink:href=\"#mf1cbd6f618\" x=\"174.86211\" y=\"53.197432\" style=\"fill: #0000ff; stroke: #0000ff; stroke-width: 0.5\"/>\n     <use xlink:href=\"#mf1cbd6f618\" x=\"177.61342\" y=\"53.197432\" style=\"fill: #0000ff; stroke: #0000ff; stroke-width: 0.5\"/>\n     <use xlink:href=\"#mf1cbd6f618\" x=\"183.116039\" y=\"53.197432\" style=\"fill: #0000ff; stroke: #0000ff; stroke-width: 0.5\"/>\n     <use xlink:href=\"#mf1cbd6f618\" x=\"185.867349\" y=\"53.197432\" style=\"fill: #0000ff; stroke: #0000ff; stroke-width: 0.5\"/>\n     <use xlink:href=\"#mf1cbd6f618\" x=\"191.369968\" y=\"57.595977\" style=\"fill: #0000ff; stroke: #0000ff; stroke-width: 0.5\"/>\n     <use xlink:href=\"#mf1cbd6f618\" x=\"194.121278\" y=\"59.79525\" style=\"fill: #0000ff; stroke: #0000ff; stroke-width: 0.5\"/>\n     <use xlink:href=\"#mf1cbd6f618\" x=\"199.623897\" y=\"57.595977\" style=\"fill: #0000ff; stroke: #0000ff; stroke-width: 0.5\"/>\n     <use xlink:href=\"#mf1cbd6f618\" x=\"202.375207\" y=\"55.396705\" style=\"fill: #0000ff; stroke: #0000ff; stroke-width: 0.5\"/>\n     <use xlink:href=\"#mf1cbd6f618\" x=\"207.877826\" y=\"57.595977\" style=\"fill: #0000ff; stroke: #0000ff; stroke-width: 0.5\"/>\n     <use xlink:href=\"#mf1cbd6f618\" x=\"210.629136\" y=\"61.994523\" style=\"fill: #0000ff; stroke: #0000ff; stroke-width: 0.5\"/>\n     <use xlink:href=\"#mf1cbd6f618\" x=\"216.131756\" y=\"64.193795\" style=\"fill: #0000ff; stroke: #0000ff; stroke-width: 0.5\"/>\n     <use xlink:href=\"#mf1cbd6f618\" x=\"218.883065\" y=\"66.393068\" style=\"fill: #0000ff; stroke: #0000ff; stroke-width: 0.5\"/>\n     <use xlink:href=\"#mf1cbd6f618\" x=\"224.385685\" y=\"61.994523\" style=\"fill: #0000ff; stroke: #0000ff; stroke-width: 0.5\"/>\n     <use xlink:href=\"#mf1cbd6f618\" x=\"227.136994\" y=\"66.393068\" style=\"fill: #0000ff; stroke: #0000ff; stroke-width: 0.5\"/>\n     <use xlink:href=\"#mf1cbd6f618\" x=\"232.639614\" y=\"64.193795\" style=\"fill: #0000ff; stroke: #0000ff; stroke-width: 0.5\"/>\n     <use xlink:href=\"#mf1cbd6f618\" x=\"235.390924\" y=\"68.592341\" style=\"fill: #0000ff; stroke: #0000ff; stroke-width: 0.5\"/>\n     <use xlink:href=\"#mf1cbd6f618\" x=\"240.893543\" y=\"61.994523\" style=\"fill: #0000ff; stroke: #0000ff; stroke-width: 0.5\"/>\n     <use xlink:href=\"#mf1cbd6f618\" x=\"243.644853\" y=\"66.393068\" style=\"fill: #0000ff; stroke: #0000ff; stroke-width: 0.5\"/>\n     <use xlink:href=\"#mf1cbd6f618\" x=\"249.147472\" y=\"66.393068\" style=\"fill: #0000ff; stroke: #0000ff; stroke-width: 0.5\"/>\n     <use xlink:href=\"#mf1cbd6f618\" x=\"251.898782\" y=\"70.791614\" style=\"fill: #0000ff; stroke: #0000ff; stroke-width: 0.5\"/>\n     <use xlink:href=\"#mf1cbd6f618\" x=\"257.401401\" y=\"94.983614\" style=\"fill: #0000ff; stroke: #0000ff; stroke-width: 0.5\"/>\n     <use xlink:href=\"#mf1cbd6f618\" x=\"260.152711\" y=\"94.983614\" style=\"fill: #0000ff; stroke: #0000ff; stroke-width: 0.5\"/>\n     <use xlink:href=\"#mf1cbd6f618\" x=\"265.65533\" y=\"125.773432\" style=\"fill: #0000ff; stroke: #0000ff; stroke-width: 0.5\"/>\n     <use xlink:href=\"#mf1cbd6f618\" x=\"268.40664\" y=\"127.972705\" style=\"fill: #0000ff; stroke: #0000ff; stroke-width: 0.5\"/>\n     <use xlink:href=\"#mf1cbd6f618\" x=\"273.909259\" y=\"147.766159\" style=\"fill: #0000ff; stroke: #0000ff; stroke-width: 0.5\"/>\n     <use xlink:href=\"#mf1cbd6f618\" x=\"276.660569\" y=\"149.965432\" style=\"fill: #0000ff; stroke: #0000ff; stroke-width: 0.5\"/>\n     <use xlink:href=\"#mf1cbd6f618\" x=\"282.163189\" y=\"167.559614\" style=\"fill: #0000ff; stroke: #0000ff; stroke-width: 0.5\"/>\n     <use xlink:href=\"#mf1cbd6f618\" x=\"284.914498\" y=\"169.758886\" style=\"fill: #0000ff; stroke: #0000ff; stroke-width: 0.5\"/>\n     <use xlink:href=\"#mf1cbd6f618\" x=\"290.417118\" y=\"176.356705\" style=\"fill: #0000ff; stroke: #0000ff; stroke-width: 0.5\"/>\n     <use xlink:href=\"#mf1cbd6f618\" x=\"293.168427\" y=\"176.356705\" style=\"fill: #0000ff; stroke: #0000ff; stroke-width: 0.5\"/>\n     <use xlink:href=\"#mf1cbd6f618\" x=\"298.671047\" y=\"191.751614\" style=\"fill: #0000ff; stroke: #0000ff; stroke-width: 0.5\"/>\n     <use xlink:href=\"#mf1cbd6f618\" x=\"301.422357\" y=\"193.950886\" style=\"fill: #0000ff; stroke: #0000ff; stroke-width: 0.5\"/>\n     <use xlink:href=\"#mf1cbd6f618\" x=\"306.924976\" y=\"193.950886\" style=\"fill: #0000ff; stroke: #0000ff; stroke-width: 0.5\"/>\n     <use xlink:href=\"#mf1cbd6f618\" x=\"309.676286\" y=\"193.950886\" style=\"fill: #0000ff; stroke: #0000ff; stroke-width: 0.5\"/>\n     <use xlink:href=\"#mf1cbd6f618\" x=\"315.178905\" y=\"193.950886\" style=\"fill: #0000ff; stroke: #0000ff; stroke-width: 0.5\"/>\n     <use xlink:href=\"#mf1cbd6f618\" x=\"317.930215\" y=\"193.950886\" style=\"fill: #0000ff; stroke: #0000ff; stroke-width: 0.5\"/>\n     <use xlink:href=\"#mf1cbd6f618\" x=\"323.432834\" y=\"193.950886\" style=\"fill: #0000ff; stroke: #0000ff; stroke-width: 0.5\"/>\n     <use xlink:href=\"#mf1cbd6f618\" x=\"326.184144\" y=\"193.950886\" style=\"fill: #0000ff; stroke: #0000ff; stroke-width: 0.5\"/>\n     <use xlink:href=\"#mf1cbd6f618\" x=\"331.686763\" y=\"198.349432\" style=\"fill: #0000ff; stroke: #0000ff; stroke-width: 0.5\"/>\n     <use xlink:href=\"#mf1cbd6f618\" x=\"334.438073\" y=\"198.349432\" style=\"fill: #0000ff; stroke: #0000ff; stroke-width: 0.5\"/>\n     <use xlink:href=\"#mf1cbd6f618\" x=\"339.940692\" y=\"198.349432\" style=\"fill: #0000ff; stroke: #0000ff; stroke-width: 0.5\"/>\n     <use xlink:href=\"#mf1cbd6f618\" x=\"342.692002\" y=\"198.349432\" style=\"fill: #0000ff; stroke: #0000ff; stroke-width: 0.5\"/>\n     <use xlink:href=\"#mf1cbd6f618\" x=\"348.194622\" y=\"204.94725\" style=\"fill: #0000ff; stroke: #0000ff; stroke-width: 0.5\"/>\n     <use xlink:href=\"#mf1cbd6f618\" x=\"350.945931\" y=\"204.94725\" style=\"fill: #0000ff; stroke: #0000ff; stroke-width: 0.5\"/>\n     <use xlink:href=\"#mf1cbd6f618\" x=\"356.448551\" y=\"209.345795\" style=\"fill: #0000ff; stroke: #0000ff; stroke-width: 0.5\"/>\n     <use xlink:href=\"#mf1cbd6f618\" x=\"359.19986\" y=\"211.545068\" style=\"fill: #0000ff; stroke: #0000ff; stroke-width: 0.5\"/>\n     <use xlink:href=\"#mf1cbd6f618\" x=\"364.70248\" y=\"220.342159\" style=\"fill: #0000ff; stroke: #0000ff; stroke-width: 0.5\"/>\n     <use xlink:href=\"#mf1cbd6f618\" x=\"367.453789\" y=\"218.142886\" style=\"fill: #0000ff; stroke: #0000ff; stroke-width: 0.5\"/>\n     <use xlink:href=\"#mf1cbd6f618\" x=\"372.956409\" y=\"231.338523\" style=\"fill: #0000ff; stroke: #0000ff; stroke-width: 0.5\"/>\n     <use xlink:href=\"#mf1cbd6f618\" x=\"375.707719\" y=\"233.537795\" style=\"fill: #0000ff; stroke: #0000ff; stroke-width: 0.5\"/>\n     <use xlink:href=\"#mf1cbd6f618\" x=\"381.210338\" y=\"257.729795\" style=\"fill: #0000ff; stroke: #0000ff; stroke-width: 0.5\"/>\n     <use xlink:href=\"#mf1cbd6f618\" x=\"383.961648\" y=\"277.52325\" style=\"fill: #0000ff; stroke: #0000ff; stroke-width: 0.5\"/>\n    </g>\n   </g>\n   <g id=\"patch_3\">\n    <path d=\"M 43.074375 289.61925 \nL 43.074375 23.50725 \n\" style=\"fill: none; stroke: #ffffff; stroke-linejoin: miter; stroke-linecap: square\"/>\n   </g>\n   <g id=\"patch_4\">\n    <path d=\"M 400.194375 289.61925 \nL 400.194375 23.50725 \n\" style=\"fill: none; stroke: #ffffff; stroke-linejoin: miter; stroke-linecap: square\"/>\n   </g>\n   <g id=\"patch_5\">\n    <path d=\"M 43.074375 289.61925 \nL 400.194375 289.61925 \n\" style=\"fill: none; stroke: #ffffff; stroke-linejoin: miter; stroke-linecap: square\"/>\n   </g>\n   <g id=\"patch_6\">\n    <path d=\"M 43.074375 23.50725 \nL 400.194375 23.50725 \n\" style=\"fill: none; stroke: #ffffff; stroke-linejoin: miter; stroke-linecap: square\"/>\n   </g>\n   <g id=\"text_18\">\n    <!-- KNN -->\n    <g style=\"fill: #262626\" transform=\"translate(206.43225 17.50725) scale(0.144 -0.144)\">\n     <defs>\n      <path id=\"ArialMT-4e\" d=\"M 488 0 \nL 488 4581 \nL 1109 4581 \nL 3516 984 \nL 3516 4581 \nL 4097 4581 \nL 4097 0 \nL 3475 0 \nL 1069 3600 \nL 1069 0 \nL 488 0 \nz\n\" transform=\"scale(0.015625)\"/>\n     </defs>\n     <use xlink:href=\"#ArialMT-4b\"/>\n     <use xlink:href=\"#ArialMT-4e\" x=\"66.699219\"/>\n     <use xlink:href=\"#ArialMT-4e\" x=\"138.916016\"/>\n    </g>\n   </g>\n  </g>\n </g>\n <defs>\n  <clipPath id=\"p89f8a7d416\">\n   <rect x=\"43.074375\" y=\"23.50725\" width=\"357.12\" height=\"266.112\"/>\n  </clipPath>\n </defs>\n</svg>\n"
     },
     "metadata": {},
     "output_type": "display_data"
    }
   ],
   "execution_count": 16
  },
  {
   "metadata": {},
   "cell_type": "markdown",
   "source": "## Print Best Result",
   "id": "e40da43abdc89a61"
  },
  {
   "metadata": {
    "ExecuteTime": {
     "end_time": "2024-10-15T16:31:50.195412Z",
     "start_time": "2024-10-15T16:31:50.191867Z"
    }
   },
   "cell_type": "code",
   "source": [
    "k_max_list = []\n",
    "for z in range(len(average_acc)):\n",
    "    if average_acc[z] == max(average_acc):\n",
    "        k_max_list.append(k_list[z])\n",
    "\n",
    "print(f'Highest average accuracy: {max(average_acc):.2f}')\n",
    "print(f'Corresponding K: {k_max_list}')"
   ],
   "id": "56d2f3ec887fc957",
   "outputs": [
    {
     "name": "stdout",
     "output_type": "stream",
     "text": [
      "Highest average accuracy: 0.98\n",
      "Corresponding K: [7, 8]\n"
     ]
    }
   ],
   "execution_count": 9
  }
 ],
 "metadata": {
  "kernelspec": {
   "display_name": "Python 3",
   "language": "python",
   "name": "python3"
  },
  "language_info": {
   "codemirror_mode": {
    "name": "ipython",
    "version": 2
   },
   "file_extension": ".py",
   "mimetype": "text/x-python",
   "name": "python",
   "nbconvert_exporter": "python",
   "pygments_lexer": "ipython2",
   "version": "2.7.6"
  }
 },
 "nbformat": 4,
 "nbformat_minor": 5
}
