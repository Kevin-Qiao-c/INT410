{
 "cells": [
  {
   "metadata": {},
   "cell_type": "markdown",
   "source": [
    "# Introduction to the Experiment\n",
    "\n",
    "The KNN experiment investigates the effect of \\(K\\), which represents the number of nearest neighbors considered, on classification performance. Adjusting \\(K\\) directly impacts the decision boundary of the model. The experiment aims to find the optimal range of \\(K\\) for achieving the best classification accuracy.\n",
    "\n",
    "The experiment will use 5-fold cross-validation to evaluate the accuracy.\n"
   ],
   "id": "b98f6523486fcfae"
  },
  {
   "metadata": {},
   "cell_type": "markdown",
   "source": [
    "# Dataset\n",
    "\n",
    "This experiment is based on the **Iris.data** dataset, which is a classic dataset widely used in pattern recognition and machine learning. The dataset was introduced by British statistician and biologist Ronald A. Fisher in 1936. The Iris dataset contains 150 samples from three different species of iris flowers, with 50 samples for each species. The species are: \n",
    "- **Iris-setosa**\n",
    "- **Iris-versicolor**\n",
    "- **Iris-virginica**. \n",
    "\n",
    "Each sample includes four features describing the morphological characteristics of the flowers:\n",
    "- **Sepal Length**\n",
    "- **Sepal Width**\n",
    "- **Petal Length**\n",
    "- **Petal Width**\n",
    "\n",
    "All four features are measured in centimeters. Each sample in the dataset is associated with a **class label** representing the species of the iris flower."
   ],
   "id": "195901752e1de631"
  },
  {
   "metadata": {
    "ExecuteTime": {
     "end_time": "2024-10-15T16:31:17.853206Z",
     "start_time": "2024-10-15T16:31:17.848596Z"
    }
   },
   "cell_type": "code",
   "source": [
    "import numpy as np\n",
    "import pandas as pd\n",
    "import random\n",
    "import timeit\n",
    "import matplotlib.pyplot as plt\n",
    "\n",
    "%matplotlib inline\n",
    "%config InlineBackend.figure_format = 'svg'\n",
    "plt.style.use('ggplot')"
   ],
   "id": "9ed676eed3e800ce",
   "outputs": [],
   "execution_count": 3
  },
  {
   "metadata": {},
   "cell_type": "markdown",
   "source": "## Computing Distance",
   "id": "31be1171bb294693"
  },
  {
   "metadata": {
    "ExecuteTime": {
     "end_time": "2024-10-15T16:31:20.487353Z",
     "start_time": "2024-10-15T16:31:20.484080Z"
    }
   },
   "cell_type": "code",
   "source": [
    "# calculate distance function\n",
    "def cal_distance(test, cal):\n",
    "    label_distance_list = []  # list of label and distance\n",
    "    for i in range(len(cal)):\n",
    "        label_distance = [cal[i][4]]\n",
    "        d = np.array(test[:4]) - np.array(cal[i][:4])  # test sample value-training sample value\n",
    "        label_distance.append(np.linalg.norm(d))  # calculate distance\n",
    "        label_distance_list.append(label_distance)\n",
    "    return label_distance_list"
   ],
   "id": "e11b259122f00c23",
   "outputs": [],
   "execution_count": 4
  },
  {
   "metadata": {},
   "cell_type": "markdown",
   "source": "## Separating Data to Train Set and Test Set",
   "id": "df83ca69010c0af7"
  },
  {
   "metadata": {
    "ExecuteTime": {
     "end_time": "2024-10-15T16:31:22.325582Z",
     "start_time": "2024-10-15T16:31:22.321943Z"
    }
   },
   "cell_type": "code",
   "source": [
    "def separate_data(ind, datalist):  # Method to separate the dataset into five parts for 5-fold cross validation\n",
    "    length = int(len(datalist) / 5)  # Cutting length of the list\n",
    "    data = [datalist[i * length:(i + 1) * length] for i in range(5)]\n",
    "\n",
    "    # According to the index, the test set will be chosen among the five subsets\n",
    "    test = data[ind]\n",
    "    train = [item for i, subset in enumerate(data) if i != ind for item in subset]\n",
    "    return train, test"
   ],
   "id": "e6ba74e63ab275",
   "outputs": [],
   "execution_count": 5
  },
  {
   "metadata": {},
   "cell_type": "markdown",
   "source": "## Main Part",
   "id": "5da7311d4003e3a5"
  },
  {
   "metadata": {
    "ExecuteTime": {
     "end_time": "2024-10-15T16:31:28.580909Z",
     "start_time": "2024-10-15T16:31:24.351426Z"
    }
   },
   "cell_type": "code",
   "source": [
    "iris_data = pd.read_csv(\"iris.data\", header=None)\n",
    "labels_codes = pd.Categorical(iris_data[4]).codes\n",
    "for i in range(150):\n",
    "    iris_data.loc[i, 4] = labels_codes[i]\n",
    "datalist = iris_data.values.tolist()\n",
    "random.seed(17)\n",
    "random.shuffle(datalist)\n",
    "\n",
    "average_acc = []\n",
    "k_list = []\n",
    "\n",
    "start = timeit.default_timer()  # Start timer to count the running time of KNN Method\n",
    "#  test different K values:\n",
    "for K in range(1, 120):\n",
    "    if K % 3 != 0:\n",
    "        # for visualization\n",
    "        k_list.append(K)\n",
    "        accuracy = []\n",
    "        # implementing 5-fold training process:\n",
    "        for i in range(5):\n",
    "            cal_data, test_data = separate_data(i, datalist)  # split training and testing set\n",
    "            # doing KNN\n",
    "            right = 0\n",
    "            for x in range(len(test_data)):\n",
    "                d_set = np.array(cal_distance(test_data[x], cal_data))  # list of distance\n",
    "                d_set = d_set[d_set[:, 1].argsort()]  # sort distance list\n",
    "                p_wk = [0, 0, 0]  # be used to record P(wk|x)\n",
    "                # calculate P(wk|x) for each test sample\n",
    "                for y in range(K):\n",
    "                    if int(d_set[y, 0]) == 0:\n",
    "                        p_wk[0] = p_wk[0] + 1 / K\n",
    "                    elif int(d_set[y, 0]) == 1:\n",
    "                        p_wk[1] = p_wk[1] + 1 / K\n",
    "                    else:\n",
    "                        p_wk[2] = p_wk[2] + 1 / K\n",
    "\n",
    "                # calculate accuracy\n",
    "                if p_wk.index(max(p_wk)) == test_data[x][4]:\n",
    "                    right += 1\n",
    "                    # right = right + 1\n",
    "            accuracy.append(right / len(test_data))\n",
    "        accuracy = np.array(accuracy)\n",
    "        average_acc.append(np.mean(accuracy))\n",
    "        print(f'Average accuracy of 5-fold cross-validation when K = {K} : {np.mean(accuracy)}')\n",
    "        print('--------------------------------------------------------------------------------')\n",
    "\n",
    "stop = timeit.default_timer()  # Stop timer for the running time of KNN algortihm\n",
    "print(f'Running time of Parzen Window with 5-fold cross validation: {stop - start}\\n')"
   ],
   "id": "9b6b0a49501566da",
   "outputs": [
    {
     "name": "stdout",
     "output_type": "stream",
     "text": [
      "Average accuracy of 5-fold cross-validation when K = 1 : 0.96\n",
      "--------------------------------------------------------------------------------\n",
      "Average accuracy of 5-fold cross-validation when K = 2 : 0.9466666666666667\n",
      "--------------------------------------------------------------------------------\n",
      "Average accuracy of 5-fold cross-validation when K = 4 : 0.96\n",
      "--------------------------------------------------------------------------------\n",
      "Average accuracy of 5-fold cross-validation when K = 5 : 0.9733333333333333\n",
      "--------------------------------------------------------------------------------\n",
      "Average accuracy of 5-fold cross-validation when K = 7 : 0.9800000000000001\n",
      "--------------------------------------------------------------------------------\n",
      "Average accuracy of 5-fold cross-validation when K = 8 : 0.9800000000000001\n",
      "--------------------------------------------------------------------------------\n",
      "Average accuracy of 5-fold cross-validation when K = 10 : 0.96\n",
      "--------------------------------------------------------------------------------\n",
      "Average accuracy of 5-fold cross-validation when K = 11 : 0.9733333333333334\n",
      "--------------------------------------------------------------------------------\n",
      "Average accuracy of 5-fold cross-validation when K = 13 : 0.9666666666666668\n",
      "--------------------------------------------------------------------------------\n",
      "Average accuracy of 5-fold cross-validation when K = 14 : 0.9600000000000002\n",
      "--------------------------------------------------------------------------------\n",
      "Average accuracy of 5-fold cross-validation when K = 16 : 0.96\n",
      "--------------------------------------------------------------------------------\n",
      "Average accuracy of 5-fold cross-validation when K = 17 : 0.9666666666666668\n",
      "--------------------------------------------------------------------------------\n",
      "Average accuracy of 5-fold cross-validation when K = 19 : 0.96\n",
      "--------------------------------------------------------------------------------\n",
      "Average accuracy of 5-fold cross-validation when K = 20 : 0.9533333333333334\n",
      "--------------------------------------------------------------------------------\n",
      "Average accuracy of 5-fold cross-validation when K = 22 : 0.9533333333333334\n",
      "--------------------------------------------------------------------------------\n",
      "Average accuracy of 5-fold cross-validation when K = 23 : 0.9533333333333334\n",
      "--------------------------------------------------------------------------------\n",
      "Average accuracy of 5-fold cross-validation when K = 25 : 0.9533333333333334\n",
      "--------------------------------------------------------------------------------\n",
      "Average accuracy of 5-fold cross-validation when K = 26 : 0.9466666666666667\n",
      "--------------------------------------------------------------------------------\n",
      "Average accuracy of 5-fold cross-validation when K = 28 : 0.9466666666666667\n",
      "--------------------------------------------------------------------------------\n",
      "Average accuracy of 5-fold cross-validation when K = 29 : 0.9600000000000002\n",
      "--------------------------------------------------------------------------------\n",
      "Average accuracy of 5-fold cross-validation when K = 31 : 0.9533333333333335\n",
      "--------------------------------------------------------------------------------\n",
      "Average accuracy of 5-fold cross-validation when K = 32 : 0.9466666666666667\n",
      "--------------------------------------------------------------------------------\n",
      "Average accuracy of 5-fold cross-validation when K = 34 : 0.9466666666666667\n",
      "--------------------------------------------------------------------------------\n",
      "Average accuracy of 5-fold cross-validation when K = 35 : 0.9400000000000001\n",
      "--------------------------------------------------------------------------------\n",
      "Average accuracy of 5-fold cross-validation when K = 37 : 0.9533333333333335\n",
      "--------------------------------------------------------------------------------\n",
      "Average accuracy of 5-fold cross-validation when K = 38 : 0.9466666666666667\n",
      "--------------------------------------------------------------------------------\n",
      "Average accuracy of 5-fold cross-validation when K = 40 : 0.9333333333333332\n",
      "--------------------------------------------------------------------------------\n",
      "Average accuracy of 5-fold cross-validation when K = 41 : 0.9266666666666665\n",
      "--------------------------------------------------------------------------------\n",
      "Average accuracy of 5-fold cross-validation when K = 43 : 0.9266666666666665\n",
      "--------------------------------------------------------------------------------\n",
      "Average accuracy of 5-fold cross-validation when K = 44 : 0.9266666666666667\n",
      "--------------------------------------------------------------------------------\n",
      "Average accuracy of 5-fold cross-validation when K = 46 : 0.9266666666666667\n",
      "--------------------------------------------------------------------------------\n",
      "Average accuracy of 5-fold cross-validation when K = 47 : 0.9266666666666665\n",
      "--------------------------------------------------------------------------------\n",
      "Average accuracy of 5-fold cross-validation when K = 49 : 0.9133333333333333\n",
      "--------------------------------------------------------------------------------\n",
      "Average accuracy of 5-fold cross-validation when K = 50 : 0.9066666666666666\n",
      "--------------------------------------------------------------------------------\n",
      "Average accuracy of 5-fold cross-validation when K = 52 : 0.9133333333333333\n",
      "--------------------------------------------------------------------------------\n",
      "Average accuracy of 5-fold cross-validation when K = 53 : 0.9199999999999999\n",
      "--------------------------------------------------------------------------------\n",
      "Average accuracy of 5-fold cross-validation when K = 55 : 0.9133333333333333\n",
      "--------------------------------------------------------------------------------\n",
      "Average accuracy of 5-fold cross-validation when K = 56 : 0.9\n",
      "--------------------------------------------------------------------------------\n",
      "Average accuracy of 5-fold cross-validation when K = 58 : 0.8933333333333333\n",
      "--------------------------------------------------------------------------------\n",
      "Average accuracy of 5-fold cross-validation when K = 59 : 0.8866666666666667\n",
      "--------------------------------------------------------------------------------\n",
      "Average accuracy of 5-fold cross-validation when K = 61 : 0.9\n",
      "--------------------------------------------------------------------------------\n",
      "Average accuracy of 5-fold cross-validation when K = 62 : 0.8866666666666667\n",
      "--------------------------------------------------------------------------------\n",
      "Average accuracy of 5-fold cross-validation when K = 64 : 0.8933333333333333\n",
      "--------------------------------------------------------------------------------\n",
      "Average accuracy of 5-fold cross-validation when K = 65 : 0.8800000000000001\n",
      "--------------------------------------------------------------------------------\n",
      "Average accuracy of 5-fold cross-validation when K = 67 : 0.9\n",
      "--------------------------------------------------------------------------------\n",
      "Average accuracy of 5-fold cross-validation when K = 68 : 0.8866666666666667\n",
      "--------------------------------------------------------------------------------\n",
      "Average accuracy of 5-fold cross-validation when K = 70 : 0.8866666666666667\n",
      "--------------------------------------------------------------------------------\n",
      "Average accuracy of 5-fold cross-validation when K = 71 : 0.8733333333333334\n",
      "--------------------------------------------------------------------------------\n",
      "Average accuracy of 5-fold cross-validation when K = 73 : 0.8\n",
      "--------------------------------------------------------------------------------\n",
      "Average accuracy of 5-fold cross-validation when K = 74 : 0.8\n",
      "--------------------------------------------------------------------------------\n",
      "Average accuracy of 5-fold cross-validation when K = 76 : 0.7066666666666667\n",
      "--------------------------------------------------------------------------------\n",
      "Average accuracy of 5-fold cross-validation when K = 77 : 0.7\n",
      "--------------------------------------------------------------------------------\n",
      "Average accuracy of 5-fold cross-validation when K = 79 : 0.64\n",
      "--------------------------------------------------------------------------------\n",
      "Average accuracy of 5-fold cross-validation when K = 80 : 0.6333333333333333\n",
      "--------------------------------------------------------------------------------\n",
      "Average accuracy of 5-fold cross-validation when K = 82 : 0.5799999999999998\n",
      "--------------------------------------------------------------------------------\n",
      "Average accuracy of 5-fold cross-validation when K = 83 : 0.5733333333333333\n",
      "--------------------------------------------------------------------------------\n",
      "Average accuracy of 5-fold cross-validation when K = 85 : 0.5533333333333333\n",
      "--------------------------------------------------------------------------------\n",
      "Average accuracy of 5-fold cross-validation when K = 86 : 0.5533333333333333\n",
      "--------------------------------------------------------------------------------\n",
      "Average accuracy of 5-fold cross-validation when K = 88 : 0.5066666666666666\n",
      "--------------------------------------------------------------------------------\n",
      "Average accuracy of 5-fold cross-validation when K = 89 : 0.5\n",
      "--------------------------------------------------------------------------------\n",
      "Average accuracy of 5-fold cross-validation when K = 91 : 0.5\n",
      "--------------------------------------------------------------------------------\n",
      "Average accuracy of 5-fold cross-validation when K = 92 : 0.5\n",
      "--------------------------------------------------------------------------------\n",
      "Average accuracy of 5-fold cross-validation when K = 94 : 0.5\n",
      "--------------------------------------------------------------------------------\n",
      "Average accuracy of 5-fold cross-validation when K = 95 : 0.5\n",
      "--------------------------------------------------------------------------------\n",
      "Average accuracy of 5-fold cross-validation when K = 97 : 0.5\n",
      "--------------------------------------------------------------------------------\n",
      "Average accuracy of 5-fold cross-validation when K = 98 : 0.5\n",
      "--------------------------------------------------------------------------------\n",
      "Average accuracy of 5-fold cross-validation when K = 100 : 0.48666666666666664\n",
      "--------------------------------------------------------------------------------\n",
      "Average accuracy of 5-fold cross-validation when K = 101 : 0.48666666666666664\n",
      "--------------------------------------------------------------------------------\n",
      "Average accuracy of 5-fold cross-validation when K = 103 : 0.48666666666666664\n",
      "--------------------------------------------------------------------------------\n",
      "Average accuracy of 5-fold cross-validation when K = 104 : 0.48666666666666664\n",
      "--------------------------------------------------------------------------------\n",
      "Average accuracy of 5-fold cross-validation when K = 106 : 0.4666666666666666\n",
      "--------------------------------------------------------------------------------\n",
      "Average accuracy of 5-fold cross-validation when K = 107 : 0.4666666666666666\n",
      "--------------------------------------------------------------------------------\n",
      "Average accuracy of 5-fold cross-validation when K = 109 : 0.4533333333333333\n",
      "--------------------------------------------------------------------------------\n",
      "Average accuracy of 5-fold cross-validation when K = 110 : 0.44666666666666666\n",
      "--------------------------------------------------------------------------------\n",
      "Average accuracy of 5-fold cross-validation when K = 112 : 0.42000000000000004\n",
      "--------------------------------------------------------------------------------\n",
      "Average accuracy of 5-fold cross-validation when K = 113 : 0.42666666666666664\n",
      "--------------------------------------------------------------------------------\n",
      "Average accuracy of 5-fold cross-validation when K = 115 : 0.3866666666666667\n",
      "--------------------------------------------------------------------------------\n",
      "Average accuracy of 5-fold cross-validation when K = 116 : 0.38\n",
      "--------------------------------------------------------------------------------\n",
      "Average accuracy of 5-fold cross-validation when K = 118 : 0.30666666666666664\n",
      "--------------------------------------------------------------------------------\n",
      "Average accuracy of 5-fold cross-validation when K = 119 : 0.24666666666666667\n",
      "--------------------------------------------------------------------------------\n",
      "Running time of Parzen Window with 5-fold cross validation: 4.2110502999858\n",
      "\n"
     ]
    }
   ],
   "execution_count": 6
  },
  {
   "metadata": {},
   "cell_type": "markdown",
   "source": "## Visualization of Average Accuracy of K",
   "id": "fea46e53ca67f420"
  },
  {
   "metadata": {
    "ExecuteTime": {
     "end_time": "2024-10-16T08:10:04.789397Z",
     "start_time": "2024-10-16T08:10:04.666894Z"
    }
   },
   "cell_type": "code",
   "source": [
    "plt.scatter(k_list, average_acc, color='blue')\n",
    "plt.xlabel('K')\n",
    "plt.ylabel('Average Accuracy')\n",
    "plt.title('Average Accuracy in Terms of K', fontweight='bold')\n",
    "plt.show()"
   ],
   "id": "93c6db46e0fa8d9f",
   "outputs": [
    {
     "data": {
      "text/plain": [
       "<Figure size 640x480 with 1 Axes>"
      ],
      "image/svg+xml": "<?xml version=\"1.0\" encoding=\"utf-8\" standalone=\"no\"?>\n<!DOCTYPE svg PUBLIC \"-//W3C//DTD SVG 1.1//EN\"\n  \"http://www.w3.org/Graphics/SVG/1.1/DTD/svg11.dtd\">\n<svg xmlns:xlink=\"http://www.w3.org/1999/xlink\" width=\"407.535pt\" height=\"328.114437pt\" viewBox=\"0 0 407.535 328.114437\" xmlns=\"http://www.w3.org/2000/svg\" version=\"1.1\">\n <metadata>\n  <rdf:RDF xmlns:dc=\"http://purl.org/dc/elements/1.1/\" xmlns:cc=\"http://creativecommons.org/ns#\" xmlns:rdf=\"http://www.w3.org/1999/02/22-rdf-syntax-ns#\">\n   <cc:Work>\n    <dc:type rdf:resource=\"http://purl.org/dc/dcmitype/StillImage\"/>\n    <dc:date>2024-10-16T16:10:04.738529</dc:date>\n    <dc:format>image/svg+xml</dc:format>\n    <dc:creator>\n     <cc:Agent>\n      <dc:title>Matplotlib v3.8.4, https://matplotlib.org/</dc:title>\n     </cc:Agent>\n    </dc:creator>\n   </cc:Work>\n  </rdf:RDF>\n </metadata>\n <defs>\n  <style type=\"text/css\">*{stroke-linejoin: round; stroke-linecap: butt}</style>\n </defs>\n <g id=\"figure_1\">\n  <g id=\"patch_1\">\n   <path d=\"M 0 328.114437 \nL 407.535 328.114437 \nL 407.535 0 \nL 0 0 \nz\n\" style=\"fill: #ffffff\"/>\n  </g>\n  <g id=\"axes_1\">\n   <g id=\"patch_2\">\n    <path d=\"M 43.215 289.79475 \nL 400.335 289.79475 \nL 400.335 23.68275 \nL 43.215 23.68275 \nz\n\" style=\"fill: #e5e5e5\"/>\n   </g>\n   <g id=\"matplotlib.axis_1\">\n    <g id=\"xtick_1\">\n     <g id=\"line2d_1\">\n      <path d=\"M 56.696418 289.79475 \nL 56.696418 23.68275 \n\" clip-path=\"url(#p1f4e40ced6)\" style=\"fill: none; stroke: #ffffff; stroke-width: 0.8; stroke-linecap: round\"/>\n     </g>\n     <g id=\"text_1\">\n      <!-- 0 -->\n      <g style=\"fill: #555555\" transform=\"translate(53.915949 303.952562) scale(0.1 -0.1)\">\n       <defs>\n        <path id=\"ArialMT-30\" d=\"M 266 2259 \nQ 266 3072 433 3567 \nQ 600 4063 929 4331 \nQ 1259 4600 1759 4600 \nQ 2128 4600 2406 4451 \nQ 2684 4303 2865 4023 \nQ 3047 3744 3150 3342 \nQ 3253 2941 3253 2259 \nQ 3253 1453 3087 958 \nQ 2922 463 2592 192 \nQ 2263 -78 1759 -78 \nQ 1097 -78 719 397 \nQ 266 969 266 2259 \nz\nM 844 2259 \nQ 844 1131 1108 757 \nQ 1372 384 1759 384 \nQ 2147 384 2411 759 \nQ 2675 1134 2675 2259 \nQ 2675 3391 2411 3762 \nQ 2147 4134 1753 4134 \nQ 1366 4134 1134 3806 \nQ 844 3388 844 2259 \nz\n\" transform=\"scale(0.015625)\"/>\n       </defs>\n       <use xlink:href=\"#ArialMT-30\"/>\n      </g>\n     </g>\n    </g>\n    <g id=\"xtick_2\">\n     <g id=\"line2d_2\">\n      <path d=\"M 111.722612 289.79475 \nL 111.722612 23.68275 \n\" clip-path=\"url(#p1f4e40ced6)\" style=\"fill: none; stroke: #ffffff; stroke-width: 0.8; stroke-linecap: round\"/>\n     </g>\n     <g id=\"text_2\">\n      <!-- 20 -->\n      <g style=\"fill: #555555\" transform=\"translate(106.161674 303.952562) scale(0.1 -0.1)\">\n       <defs>\n        <path id=\"ArialMT-32\" d=\"M 3222 541 \nL 3222 0 \nL 194 0 \nQ 188 203 259 391 \nQ 375 700 629 1000 \nQ 884 1300 1366 1694 \nQ 2113 2306 2375 2664 \nQ 2638 3022 2638 3341 \nQ 2638 3675 2398 3904 \nQ 2159 4134 1775 4134 \nQ 1369 4134 1125 3890 \nQ 881 3647 878 3216 \nL 300 3275 \nQ 359 3922 746 4261 \nQ 1134 4600 1788 4600 \nQ 2447 4600 2831 4234 \nQ 3216 3869 3216 3328 \nQ 3216 3053 3103 2787 \nQ 2991 2522 2730 2228 \nQ 2469 1934 1863 1422 \nQ 1356 997 1212 845 \nQ 1069 694 975 541 \nL 3222 541 \nz\n\" transform=\"scale(0.015625)\"/>\n       </defs>\n       <use xlink:href=\"#ArialMT-32\"/>\n       <use xlink:href=\"#ArialMT-30\" x=\"55.615234\"/>\n      </g>\n     </g>\n    </g>\n    <g id=\"xtick_3\">\n     <g id=\"line2d_3\">\n      <path d=\"M 166.748806 289.79475 \nL 166.748806 23.68275 \n\" clip-path=\"url(#p1f4e40ced6)\" style=\"fill: none; stroke: #ffffff; stroke-width: 0.8; stroke-linecap: round\"/>\n     </g>\n     <g id=\"text_3\">\n      <!-- 40 -->\n      <g style=\"fill: #555555\" transform=\"translate(161.187868 303.952562) scale(0.1 -0.1)\">\n       <defs>\n        <path id=\"ArialMT-34\" d=\"M 2069 0 \nL 2069 1097 \nL 81 1097 \nL 81 1613 \nL 2172 4581 \nL 2631 4581 \nL 2631 1613 \nL 3250 1613 \nL 3250 1097 \nL 2631 1097 \nL 2631 0 \nL 2069 0 \nz\nM 2069 1613 \nL 2069 3678 \nL 634 1613 \nL 2069 1613 \nz\n\" transform=\"scale(0.015625)\"/>\n       </defs>\n       <use xlink:href=\"#ArialMT-34\"/>\n       <use xlink:href=\"#ArialMT-30\" x=\"55.615234\"/>\n      </g>\n     </g>\n    </g>\n    <g id=\"xtick_4\">\n     <g id=\"line2d_4\">\n      <path d=\"M 221.775 289.79475 \nL 221.775 23.68275 \n\" clip-path=\"url(#p1f4e40ced6)\" style=\"fill: none; stroke: #ffffff; stroke-width: 0.8; stroke-linecap: round\"/>\n     </g>\n     <g id=\"text_4\">\n      <!-- 60 -->\n      <g style=\"fill: #555555\" transform=\"translate(216.214062 303.952562) scale(0.1 -0.1)\">\n       <defs>\n        <path id=\"ArialMT-36\" d=\"M 3184 3459 \nL 2625 3416 \nQ 2550 3747 2413 3897 \nQ 2184 4138 1850 4138 \nQ 1581 4138 1378 3988 \nQ 1113 3794 959 3422 \nQ 806 3050 800 2363 \nQ 1003 2672 1297 2822 \nQ 1591 2972 1913 2972 \nQ 2475 2972 2870 2558 \nQ 3266 2144 3266 1488 \nQ 3266 1056 3080 686 \nQ 2894 316 2569 119 \nQ 2244 -78 1831 -78 \nQ 1128 -78 684 439 \nQ 241 956 241 2144 \nQ 241 3472 731 4075 \nQ 1159 4600 1884 4600 \nQ 2425 4600 2770 4297 \nQ 3116 3994 3184 3459 \nz\nM 888 1484 \nQ 888 1194 1011 928 \nQ 1134 663 1356 523 \nQ 1578 384 1822 384 \nQ 2178 384 2434 671 \nQ 2691 959 2691 1453 \nQ 2691 1928 2437 2201 \nQ 2184 2475 1800 2475 \nQ 1419 2475 1153 2201 \nQ 888 1928 888 1484 \nz\n\" transform=\"scale(0.015625)\"/>\n       </defs>\n       <use xlink:href=\"#ArialMT-36\"/>\n       <use xlink:href=\"#ArialMT-30\" x=\"55.615234\"/>\n      </g>\n     </g>\n    </g>\n    <g id=\"xtick_5\">\n     <g id=\"line2d_5\">\n      <path d=\"M 276.801194 289.79475 \nL 276.801194 23.68275 \n\" clip-path=\"url(#p1f4e40ced6)\" style=\"fill: none; stroke: #ffffff; stroke-width: 0.8; stroke-linecap: round\"/>\n     </g>\n     <g id=\"text_5\">\n      <!-- 80 -->\n      <g style=\"fill: #555555\" transform=\"translate(271.240257 303.952562) scale(0.1 -0.1)\">\n       <defs>\n        <path id=\"ArialMT-38\" d=\"M 1131 2484 \nQ 781 2613 612 2850 \nQ 444 3088 444 3419 \nQ 444 3919 803 4259 \nQ 1163 4600 1759 4600 \nQ 2359 4600 2725 4251 \nQ 3091 3903 3091 3403 \nQ 3091 3084 2923 2848 \nQ 2756 2613 2416 2484 \nQ 2838 2347 3058 2040 \nQ 3278 1734 3278 1309 \nQ 3278 722 2862 322 \nQ 2447 -78 1769 -78 \nQ 1091 -78 675 323 \nQ 259 725 259 1325 \nQ 259 1772 486 2073 \nQ 713 2375 1131 2484 \nz\nM 1019 3438 \nQ 1019 3113 1228 2906 \nQ 1438 2700 1772 2700 \nQ 2097 2700 2305 2904 \nQ 2513 3109 2513 3406 \nQ 2513 3716 2298 3927 \nQ 2084 4138 1766 4138 \nQ 1444 4138 1231 3931 \nQ 1019 3725 1019 3438 \nz\nM 838 1322 \nQ 838 1081 952 856 \nQ 1066 631 1291 507 \nQ 1516 384 1775 384 \nQ 2178 384 2440 643 \nQ 2703 903 2703 1303 \nQ 2703 1709 2433 1975 \nQ 2163 2241 1756 2241 \nQ 1359 2241 1098 1978 \nQ 838 1716 838 1322 \nz\n\" transform=\"scale(0.015625)\"/>\n       </defs>\n       <use xlink:href=\"#ArialMT-38\"/>\n       <use xlink:href=\"#ArialMT-30\" x=\"55.615234\"/>\n      </g>\n     </g>\n    </g>\n    <g id=\"xtick_6\">\n     <g id=\"line2d_6\">\n      <path d=\"M 331.827388 289.79475 \nL 331.827388 23.68275 \n\" clip-path=\"url(#p1f4e40ced6)\" style=\"fill: none; stroke: #ffffff; stroke-width: 0.8; stroke-linecap: round\"/>\n     </g>\n     <g id=\"text_6\">\n      <!-- 100 -->\n      <g style=\"fill: #555555\" transform=\"translate(323.485982 303.952562) scale(0.1 -0.1)\">\n       <defs>\n        <path id=\"ArialMT-31\" d=\"M 2384 0 \nL 1822 0 \nL 1822 3584 \nQ 1619 3391 1289 3197 \nQ 959 3003 697 2906 \nL 697 3450 \nQ 1169 3672 1522 3987 \nQ 1875 4303 2022 4600 \nL 2384 4600 \nL 2384 0 \nz\n\" transform=\"scale(0.015625)\"/>\n       </defs>\n       <use xlink:href=\"#ArialMT-31\"/>\n       <use xlink:href=\"#ArialMT-30\" x=\"55.615234\"/>\n       <use xlink:href=\"#ArialMT-30\" x=\"111.230469\"/>\n      </g>\n     </g>\n    </g>\n    <g id=\"xtick_7\">\n     <g id=\"line2d_7\">\n      <path d=\"M 386.853582 289.79475 \nL 386.853582 23.68275 \n\" clip-path=\"url(#p1f4e40ced6)\" style=\"fill: none; stroke: #ffffff; stroke-width: 0.8; stroke-linecap: round\"/>\n     </g>\n     <g id=\"text_7\">\n      <!-- 120 -->\n      <g style=\"fill: #555555\" transform=\"translate(378.512176 303.952562) scale(0.1 -0.1)\">\n       <use xlink:href=\"#ArialMT-31\"/>\n       <use xlink:href=\"#ArialMT-32\" x=\"55.615234\"/>\n       <use xlink:href=\"#ArialMT-30\" x=\"111.230469\"/>\n      </g>\n     </g>\n    </g>\n    <g id=\"text_8\">\n     <!-- K -->\n     <g style=\"fill: #555555\" transform=\"translate(217.772813 318.529437) scale(0.12 -0.12)\">\n      <defs>\n       <path id=\"ArialMT-4b\" d=\"M 469 0 \nL 469 4581 \nL 1075 4581 \nL 1075 2309 \nL 3350 4581 \nL 4172 4581 \nL 2250 2725 \nL 4256 0 \nL 3456 0 \nL 1825 2319 \nL 1075 1588 \nL 1075 0 \nL 469 0 \nz\n\" transform=\"scale(0.015625)\"/>\n      </defs>\n      <use xlink:href=\"#ArialMT-4b\"/>\n     </g>\n    </g>\n   </g>\n   <g id=\"matplotlib.axis_2\">\n    <g id=\"ytick_1\">\n     <g id=\"line2d_8\">\n      <path d=\"M 43.215 260.104568 \nL 400.335 260.104568 \n\" clip-path=\"url(#p1f4e40ced6)\" style=\"fill: none; stroke: #ffffff; stroke-width: 0.8; stroke-linecap: round\"/>\n     </g>\n     <g id=\"text_9\">\n      <!-- 0.3 -->\n      <g style=\"fill: #555555\" transform=\"translate(22.315 263.683474) scale(0.1 -0.1)\">\n       <defs>\n        <path id=\"ArialMT-2e\" d=\"M 581 0 \nL 581 641 \nL 1222 641 \nL 1222 0 \nL 581 0 \nz\n\" transform=\"scale(0.015625)\"/>\n        <path id=\"ArialMT-33\" d=\"M 269 1209 \nL 831 1284 \nQ 928 806 1161 595 \nQ 1394 384 1728 384 \nQ 2125 384 2398 659 \nQ 2672 934 2672 1341 \nQ 2672 1728 2419 1979 \nQ 2166 2231 1775 2231 \nQ 1616 2231 1378 2169 \nL 1441 2663 \nQ 1497 2656 1531 2656 \nQ 1891 2656 2178 2843 \nQ 2466 3031 2466 3422 \nQ 2466 3731 2256 3934 \nQ 2047 4138 1716 4138 \nQ 1388 4138 1169 3931 \nQ 950 3725 888 3313 \nL 325 3413 \nQ 428 3978 793 4289 \nQ 1159 4600 1703 4600 \nQ 2078 4600 2393 4439 \nQ 2709 4278 2876 4000 \nQ 3044 3722 3044 3409 \nQ 3044 3113 2884 2869 \nQ 2725 2625 2413 2481 \nQ 2819 2388 3044 2092 \nQ 3269 1797 3269 1353 \nQ 3269 753 2831 336 \nQ 2394 -81 1725 -81 \nQ 1122 -81 723 278 \nQ 325 638 269 1209 \nz\n\" transform=\"scale(0.015625)\"/>\n       </defs>\n       <use xlink:href=\"#ArialMT-30\"/>\n       <use xlink:href=\"#ArialMT-2e\" x=\"55.615234\"/>\n       <use xlink:href=\"#ArialMT-33\" x=\"83.398438\"/>\n      </g>\n     </g>\n    </g>\n    <g id=\"ytick_2\">\n     <g id=\"line2d_9\">\n      <path d=\"M 43.215 227.115477 \nL 400.335 227.115477 \n\" clip-path=\"url(#p1f4e40ced6)\" style=\"fill: none; stroke: #ffffff; stroke-width: 0.8; stroke-linecap: round\"/>\n     </g>\n     <g id=\"text_10\">\n      <!-- 0.4 -->\n      <g style=\"fill: #555555\" transform=\"translate(22.315 230.694384) scale(0.1 -0.1)\">\n       <use xlink:href=\"#ArialMT-30\"/>\n       <use xlink:href=\"#ArialMT-2e\" x=\"55.615234\"/>\n       <use xlink:href=\"#ArialMT-34\" x=\"83.398438\"/>\n      </g>\n     </g>\n    </g>\n    <g id=\"ytick_3\">\n     <g id=\"line2d_10\">\n      <path d=\"M 43.215 194.126386 \nL 400.335 194.126386 \n\" clip-path=\"url(#p1f4e40ced6)\" style=\"fill: none; stroke: #ffffff; stroke-width: 0.8; stroke-linecap: round\"/>\n     </g>\n     <g id=\"text_11\">\n      <!-- 0.5 -->\n      <g style=\"fill: #555555\" transform=\"translate(22.315 197.705293) scale(0.1 -0.1)\">\n       <defs>\n        <path id=\"ArialMT-35\" d=\"M 266 1200 \nL 856 1250 \nQ 922 819 1161 601 \nQ 1400 384 1738 384 \nQ 2144 384 2425 690 \nQ 2706 997 2706 1503 \nQ 2706 1984 2436 2262 \nQ 2166 2541 1728 2541 \nQ 1456 2541 1237 2417 \nQ 1019 2294 894 2097 \nL 366 2166 \nL 809 4519 \nL 3088 4519 \nL 3088 3981 \nL 1259 3981 \nL 1013 2750 \nQ 1425 3038 1878 3038 \nQ 2478 3038 2890 2622 \nQ 3303 2206 3303 1553 \nQ 3303 931 2941 478 \nQ 2500 -78 1738 -78 \nQ 1113 -78 717 272 \nQ 322 622 266 1200 \nz\n\" transform=\"scale(0.015625)\"/>\n       </defs>\n       <use xlink:href=\"#ArialMT-30\"/>\n       <use xlink:href=\"#ArialMT-2e\" x=\"55.615234\"/>\n       <use xlink:href=\"#ArialMT-35\" x=\"83.398438\"/>\n      </g>\n     </g>\n    </g>\n    <g id=\"ytick_4\">\n     <g id=\"line2d_11\">\n      <path d=\"M 43.215 161.137295 \nL 400.335 161.137295 \n\" clip-path=\"url(#p1f4e40ced6)\" style=\"fill: none; stroke: #ffffff; stroke-width: 0.8; stroke-linecap: round\"/>\n     </g>\n     <g id=\"text_12\">\n      <!-- 0.6 -->\n      <g style=\"fill: #555555\" transform=\"translate(22.315 164.716202) scale(0.1 -0.1)\">\n       <use xlink:href=\"#ArialMT-30\"/>\n       <use xlink:href=\"#ArialMT-2e\" x=\"55.615234\"/>\n       <use xlink:href=\"#ArialMT-36\" x=\"83.398438\"/>\n      </g>\n     </g>\n    </g>\n    <g id=\"ytick_5\">\n     <g id=\"line2d_12\">\n      <path d=\"M 43.215 128.148205 \nL 400.335 128.148205 \n\" clip-path=\"url(#p1f4e40ced6)\" style=\"fill: none; stroke: #ffffff; stroke-width: 0.8; stroke-linecap: round\"/>\n     </g>\n     <g id=\"text_13\">\n      <!-- 0.7 -->\n      <g style=\"fill: #555555\" transform=\"translate(22.315 131.727111) scale(0.1 -0.1)\">\n       <defs>\n        <path id=\"ArialMT-37\" d=\"M 303 3981 \nL 303 4522 \nL 3269 4522 \nL 3269 4084 \nQ 2831 3619 2401 2847 \nQ 1972 2075 1738 1259 \nQ 1569 684 1522 0 \nL 944 0 \nQ 953 541 1156 1306 \nQ 1359 2072 1739 2783 \nQ 2119 3494 2547 3981 \nL 303 3981 \nz\n\" transform=\"scale(0.015625)\"/>\n       </defs>\n       <use xlink:href=\"#ArialMT-30\"/>\n       <use xlink:href=\"#ArialMT-2e\" x=\"55.615234\"/>\n       <use xlink:href=\"#ArialMT-37\" x=\"83.398438\"/>\n      </g>\n     </g>\n    </g>\n    <g id=\"ytick_6\">\n     <g id=\"line2d_13\">\n      <path d=\"M 43.215 95.159114 \nL 400.335 95.159114 \n\" clip-path=\"url(#p1f4e40ced6)\" style=\"fill: none; stroke: #ffffff; stroke-width: 0.8; stroke-linecap: round\"/>\n     </g>\n     <g id=\"text_14\">\n      <!-- 0.8 -->\n      <g style=\"fill: #555555\" transform=\"translate(22.315 98.73802) scale(0.1 -0.1)\">\n       <use xlink:href=\"#ArialMT-30\"/>\n       <use xlink:href=\"#ArialMT-2e\" x=\"55.615234\"/>\n       <use xlink:href=\"#ArialMT-38\" x=\"83.398438\"/>\n      </g>\n     </g>\n    </g>\n    <g id=\"ytick_7\">\n     <g id=\"line2d_14\">\n      <path d=\"M 43.215 62.170023 \nL 400.335 62.170023 \n\" clip-path=\"url(#p1f4e40ced6)\" style=\"fill: none; stroke: #ffffff; stroke-width: 0.8; stroke-linecap: round\"/>\n     </g>\n     <g id=\"text_15\">\n      <!-- 0.9 -->\n      <g style=\"fill: #555555\" transform=\"translate(22.315 65.748929) scale(0.1 -0.1)\">\n       <defs>\n        <path id=\"ArialMT-39\" d=\"M 350 1059 \nL 891 1109 \nQ 959 728 1153 556 \nQ 1347 384 1650 384 \nQ 1909 384 2104 503 \nQ 2300 622 2425 820 \nQ 2550 1019 2634 1356 \nQ 2719 1694 2719 2044 \nQ 2719 2081 2716 2156 \nQ 2547 1888 2255 1720 \nQ 1963 1553 1622 1553 \nQ 1053 1553 659 1965 \nQ 266 2378 266 3053 \nQ 266 3750 677 4175 \nQ 1088 4600 1706 4600 \nQ 2153 4600 2523 4359 \nQ 2894 4119 3086 3673 \nQ 3278 3228 3278 2384 \nQ 3278 1506 3087 986 \nQ 2897 466 2520 194 \nQ 2144 -78 1638 -78 \nQ 1100 -78 759 220 \nQ 419 519 350 1059 \nz\nM 2653 3081 \nQ 2653 3566 2395 3850 \nQ 2138 4134 1775 4134 \nQ 1400 4134 1122 3828 \nQ 844 3522 844 3034 \nQ 844 2597 1108 2323 \nQ 1372 2050 1759 2050 \nQ 2150 2050 2401 2323 \nQ 2653 2597 2653 3081 \nz\n\" transform=\"scale(0.015625)\"/>\n       </defs>\n       <use xlink:href=\"#ArialMT-30\"/>\n       <use xlink:href=\"#ArialMT-2e\" x=\"55.615234\"/>\n       <use xlink:href=\"#ArialMT-39\" x=\"83.398438\"/>\n      </g>\n     </g>\n    </g>\n    <g id=\"ytick_8\">\n     <g id=\"line2d_15\">\n      <path d=\"M 43.215 29.180932 \nL 400.335 29.180932 \n\" clip-path=\"url(#p1f4e40ced6)\" style=\"fill: none; stroke: #ffffff; stroke-width: 0.8; stroke-linecap: round\"/>\n     </g>\n     <g id=\"text_16\">\n      <!-- 1.0 -->\n      <g style=\"fill: #555555\" transform=\"translate(22.315 32.759838) scale(0.1 -0.1)\">\n       <use xlink:href=\"#ArialMT-31\"/>\n       <use xlink:href=\"#ArialMT-2e\" x=\"55.615234\"/>\n       <use xlink:href=\"#ArialMT-30\" x=\"83.398438\"/>\n      </g>\n     </g>\n    </g>\n    <g id=\"text_17\">\n     <!-- Average Accuracy -->\n     <g style=\"fill: #555555\" transform=\"translate(15.789375 204.99) rotate(-90) scale(0.12 -0.12)\">\n      <defs>\n       <path id=\"ArialMT-41\" d=\"M -9 0 \nL 1750 4581 \nL 2403 4581 \nL 4278 0 \nL 3588 0 \nL 3053 1388 \nL 1138 1388 \nL 634 0 \nL -9 0 \nz\nM 1313 1881 \nL 2866 1881 \nL 2388 3150 \nQ 2169 3728 2063 4100 \nQ 1975 3659 1816 3225 \nL 1313 1881 \nz\n\" transform=\"scale(0.015625)\"/>\n       <path id=\"ArialMT-76\" d=\"M 1344 0 \nL 81 3319 \nL 675 3319 \nL 1388 1331 \nQ 1503 1009 1600 663 \nQ 1675 925 1809 1294 \nL 2547 3319 \nL 3125 3319 \nL 1869 0 \nL 1344 0 \nz\n\" transform=\"scale(0.015625)\"/>\n       <path id=\"ArialMT-65\" d=\"M 2694 1069 \nL 3275 997 \nQ 3138 488 2766 206 \nQ 2394 -75 1816 -75 \nQ 1088 -75 661 373 \nQ 234 822 234 1631 \nQ 234 2469 665 2931 \nQ 1097 3394 1784 3394 \nQ 2450 3394 2872 2941 \nQ 3294 2488 3294 1666 \nQ 3294 1616 3291 1516 \nL 816 1516 \nQ 847 969 1125 678 \nQ 1403 388 1819 388 \nQ 2128 388 2347 550 \nQ 2566 713 2694 1069 \nz\nM 847 1978 \nL 2700 1978 \nQ 2663 2397 2488 2606 \nQ 2219 2931 1791 2931 \nQ 1403 2931 1139 2672 \nQ 875 2413 847 1978 \nz\n\" transform=\"scale(0.015625)\"/>\n       <path id=\"ArialMT-72\" d=\"M 416 0 \nL 416 3319 \nL 922 3319 \nL 922 2816 \nQ 1116 3169 1280 3281 \nQ 1444 3394 1641 3394 \nQ 1925 3394 2219 3213 \nL 2025 2691 \nQ 1819 2813 1613 2813 \nQ 1428 2813 1281 2702 \nQ 1134 2591 1072 2394 \nQ 978 2094 978 1738 \nL 978 0 \nL 416 0 \nz\n\" transform=\"scale(0.015625)\"/>\n       <path id=\"ArialMT-61\" d=\"M 2588 409 \nQ 2275 144 1986 34 \nQ 1697 -75 1366 -75 \nQ 819 -75 525 192 \nQ 231 459 231 875 \nQ 231 1119 342 1320 \nQ 453 1522 633 1644 \nQ 813 1766 1038 1828 \nQ 1203 1872 1538 1913 \nQ 2219 1994 2541 2106 \nQ 2544 2222 2544 2253 \nQ 2544 2597 2384 2738 \nQ 2169 2928 1744 2928 \nQ 1347 2928 1158 2789 \nQ 969 2650 878 2297 \nL 328 2372 \nQ 403 2725 575 2942 \nQ 747 3159 1072 3276 \nQ 1397 3394 1825 3394 \nQ 2250 3394 2515 3294 \nQ 2781 3194 2906 3042 \nQ 3031 2891 3081 2659 \nQ 3109 2516 3109 2141 \nL 3109 1391 \nQ 3109 606 3145 398 \nQ 3181 191 3288 0 \nL 2700 0 \nQ 2613 175 2588 409 \nz\nM 2541 1666 \nQ 2234 1541 1622 1453 \nQ 1275 1403 1131 1340 \nQ 988 1278 909 1158 \nQ 831 1038 831 891 \nQ 831 666 1001 516 \nQ 1172 366 1500 366 \nQ 1825 366 2078 508 \nQ 2331 650 2450 897 \nQ 2541 1088 2541 1459 \nL 2541 1666 \nz\n\" transform=\"scale(0.015625)\"/>\n       <path id=\"ArialMT-67\" d=\"M 319 -275 \nL 866 -356 \nQ 900 -609 1056 -725 \nQ 1266 -881 1628 -881 \nQ 2019 -881 2231 -725 \nQ 2444 -569 2519 -288 \nQ 2563 -116 2559 434 \nQ 2191 0 1641 0 \nQ 956 0 581 494 \nQ 206 988 206 1678 \nQ 206 2153 378 2554 \nQ 550 2956 876 3175 \nQ 1203 3394 1644 3394 \nQ 2231 3394 2613 2919 \nL 2613 3319 \nL 3131 3319 \nL 3131 450 \nQ 3131 -325 2973 -648 \nQ 2816 -972 2473 -1159 \nQ 2131 -1347 1631 -1347 \nQ 1038 -1347 672 -1080 \nQ 306 -813 319 -275 \nz\nM 784 1719 \nQ 784 1066 1043 766 \nQ 1303 466 1694 466 \nQ 2081 466 2343 764 \nQ 2606 1063 2606 1700 \nQ 2606 2309 2336 2618 \nQ 2066 2928 1684 2928 \nQ 1309 2928 1046 2623 \nQ 784 2319 784 1719 \nz\n\" transform=\"scale(0.015625)\"/>\n       <path id=\"ArialMT-20\" transform=\"scale(0.015625)\"/>\n       <path id=\"ArialMT-63\" d=\"M 2588 1216 \nL 3141 1144 \nQ 3050 572 2676 248 \nQ 2303 -75 1759 -75 \nQ 1078 -75 664 370 \nQ 250 816 250 1647 \nQ 250 2184 428 2587 \nQ 606 2991 970 3192 \nQ 1334 3394 1763 3394 \nQ 2303 3394 2647 3120 \nQ 2991 2847 3088 2344 \nL 2541 2259 \nQ 2463 2594 2264 2762 \nQ 2066 2931 1784 2931 \nQ 1359 2931 1093 2626 \nQ 828 2322 828 1663 \nQ 828 994 1084 691 \nQ 1341 388 1753 388 \nQ 2084 388 2306 591 \nQ 2528 794 2588 1216 \nz\n\" transform=\"scale(0.015625)\"/>\n       <path id=\"ArialMT-75\" d=\"M 2597 0 \nL 2597 488 \nQ 2209 -75 1544 -75 \nQ 1250 -75 995 37 \nQ 741 150 617 320 \nQ 494 491 444 738 \nQ 409 903 409 1263 \nL 409 3319 \nL 972 3319 \nL 972 1478 \nQ 972 1038 1006 884 \nQ 1059 663 1231 536 \nQ 1403 409 1656 409 \nQ 1909 409 2131 539 \nQ 2353 669 2445 892 \nQ 2538 1116 2538 1541 \nL 2538 3319 \nL 3100 3319 \nL 3100 0 \nL 2597 0 \nz\n\" transform=\"scale(0.015625)\"/>\n       <path id=\"ArialMT-79\" d=\"M 397 -1278 \nL 334 -750 \nQ 519 -800 656 -800 \nQ 844 -800 956 -737 \nQ 1069 -675 1141 -563 \nQ 1194 -478 1313 -144 \nQ 1328 -97 1363 -6 \nL 103 3319 \nL 709 3319 \nL 1400 1397 \nQ 1534 1031 1641 628 \nQ 1738 1016 1872 1384 \nL 2581 3319 \nL 3144 3319 \nL 1881 -56 \nQ 1678 -603 1566 -809 \nQ 1416 -1088 1222 -1217 \nQ 1028 -1347 759 -1347 \nQ 597 -1347 397 -1278 \nz\n\" transform=\"scale(0.015625)\"/>\n      </defs>\n      <use xlink:href=\"#ArialMT-41\"/>\n      <use xlink:href=\"#ArialMT-76\" x=\"64.949219\"/>\n      <use xlink:href=\"#ArialMT-65\" x=\"114.949219\"/>\n      <use xlink:href=\"#ArialMT-72\" x=\"170.564453\"/>\n      <use xlink:href=\"#ArialMT-61\" x=\"203.865234\"/>\n      <use xlink:href=\"#ArialMT-67\" x=\"259.480469\"/>\n      <use xlink:href=\"#ArialMT-65\" x=\"315.095703\"/>\n      <use xlink:href=\"#ArialMT-20\" x=\"370.710938\"/>\n      <use xlink:href=\"#ArialMT-41\" x=\"392.994141\"/>\n      <use xlink:href=\"#ArialMT-63\" x=\"459.693359\"/>\n      <use xlink:href=\"#ArialMT-63\" x=\"509.693359\"/>\n      <use xlink:href=\"#ArialMT-75\" x=\"559.693359\"/>\n      <use xlink:href=\"#ArialMT-72\" x=\"615.308594\"/>\n      <use xlink:href=\"#ArialMT-61\" x=\"648.609375\"/>\n      <use xlink:href=\"#ArialMT-63\" x=\"704.224609\"/>\n      <use xlink:href=\"#ArialMT-79\" x=\"754.224609\"/>\n     </g>\n    </g>\n   </g>\n   <g id=\"PathCollection_1\">\n    <defs>\n     <path id=\"mf0df1bf173\" d=\"M 0 3 \nC 0.795609 3 1.55874 2.683901 2.12132 2.12132 \nC 2.683901 1.55874 3 0.795609 3 0 \nC 3 -0.795609 2.683901 -1.55874 2.12132 -2.12132 \nC 1.55874 -2.683901 0.795609 -3 0 -3 \nC -0.795609 -3 -1.55874 -2.683901 -2.12132 -2.12132 \nC -2.683901 -1.55874 -3 -0.795609 -3 0 \nC -3 0.795609 -2.683901 1.55874 -2.12132 2.12132 \nC -1.55874 2.683901 -0.795609 3 0 3 \nz\n\" style=\"stroke: #0000ff; stroke-width: 0.5\"/>\n    </defs>\n    <g clip-path=\"url(#p1f4e40ced6)\">\n     <use xlink:href=\"#mf0df1bf173\" x=\"59.447727\" y=\"42.376568\" style=\"fill: #0000ff; stroke: #0000ff; stroke-width: 0.5\"/>\n     <use xlink:href=\"#mf0df1bf173\" x=\"62.199037\" y=\"46.775114\" style=\"fill: #0000ff; stroke: #0000ff; stroke-width: 0.5\"/>\n     <use xlink:href=\"#mf0df1bf173\" x=\"67.701656\" y=\"42.376568\" style=\"fill: #0000ff; stroke: #0000ff; stroke-width: 0.5\"/>\n     <use xlink:href=\"#mf0df1bf173\" x=\"70.452966\" y=\"37.978023\" style=\"fill: #0000ff; stroke: #0000ff; stroke-width: 0.5\"/>\n     <use xlink:href=\"#mf0df1bf173\" x=\"75.955586\" y=\"35.77875\" style=\"fill: #0000ff; stroke: #0000ff; stroke-width: 0.5\"/>\n     <use xlink:href=\"#mf0df1bf173\" x=\"78.706895\" y=\"35.77875\" style=\"fill: #0000ff; stroke: #0000ff; stroke-width: 0.5\"/>\n     <use xlink:href=\"#mf0df1bf173\" x=\"84.209515\" y=\"42.376568\" style=\"fill: #0000ff; stroke: #0000ff; stroke-width: 0.5\"/>\n     <use xlink:href=\"#mf0df1bf173\" x=\"86.960824\" y=\"37.978023\" style=\"fill: #0000ff; stroke: #0000ff; stroke-width: 0.5\"/>\n     <use xlink:href=\"#mf0df1bf173\" x=\"92.463444\" y=\"40.177295\" style=\"fill: #0000ff; stroke: #0000ff; stroke-width: 0.5\"/>\n     <use xlink:href=\"#mf0df1bf173\" x=\"95.214753\" y=\"42.376568\" style=\"fill: #0000ff; stroke: #0000ff; stroke-width: 0.5\"/>\n     <use xlink:href=\"#mf0df1bf173\" x=\"100.717373\" y=\"42.376568\" style=\"fill: #0000ff; stroke: #0000ff; stroke-width: 0.5\"/>\n     <use xlink:href=\"#mf0df1bf173\" x=\"103.468683\" y=\"40.177295\" style=\"fill: #0000ff; stroke: #0000ff; stroke-width: 0.5\"/>\n     <use xlink:href=\"#mf0df1bf173\" x=\"108.971302\" y=\"42.376568\" style=\"fill: #0000ff; stroke: #0000ff; stroke-width: 0.5\"/>\n     <use xlink:href=\"#mf0df1bf173\" x=\"111.722612\" y=\"44.575841\" style=\"fill: #0000ff; stroke: #0000ff; stroke-width: 0.5\"/>\n     <use xlink:href=\"#mf0df1bf173\" x=\"117.225231\" y=\"44.575841\" style=\"fill: #0000ff; stroke: #0000ff; stroke-width: 0.5\"/>\n     <use xlink:href=\"#mf0df1bf173\" x=\"119.976541\" y=\"44.575841\" style=\"fill: #0000ff; stroke: #0000ff; stroke-width: 0.5\"/>\n     <use xlink:href=\"#mf0df1bf173\" x=\"125.47916\" y=\"44.575841\" style=\"fill: #0000ff; stroke: #0000ff; stroke-width: 0.5\"/>\n     <use xlink:href=\"#mf0df1bf173\" x=\"128.23047\" y=\"46.775114\" style=\"fill: #0000ff; stroke: #0000ff; stroke-width: 0.5\"/>\n     <use xlink:href=\"#mf0df1bf173\" x=\"133.733089\" y=\"46.775114\" style=\"fill: #0000ff; stroke: #0000ff; stroke-width: 0.5\"/>\n     <use xlink:href=\"#mf0df1bf173\" x=\"136.484399\" y=\"42.376568\" style=\"fill: #0000ff; stroke: #0000ff; stroke-width: 0.5\"/>\n     <use xlink:href=\"#mf0df1bf173\" x=\"141.987018\" y=\"44.575841\" style=\"fill: #0000ff; stroke: #0000ff; stroke-width: 0.5\"/>\n     <use xlink:href=\"#mf0df1bf173\" x=\"144.738328\" y=\"46.775114\" style=\"fill: #0000ff; stroke: #0000ff; stroke-width: 0.5\"/>\n     <use xlink:href=\"#mf0df1bf173\" x=\"150.240948\" y=\"46.775114\" style=\"fill: #0000ff; stroke: #0000ff; stroke-width: 0.5\"/>\n     <use xlink:href=\"#mf0df1bf173\" x=\"152.992257\" y=\"48.974386\" style=\"fill: #0000ff; stroke: #0000ff; stroke-width: 0.5\"/>\n     <use xlink:href=\"#mf0df1bf173\" x=\"158.494877\" y=\"44.575841\" style=\"fill: #0000ff; stroke: #0000ff; stroke-width: 0.5\"/>\n     <use xlink:href=\"#mf0df1bf173\" x=\"161.246186\" y=\"46.775114\" style=\"fill: #0000ff; stroke: #0000ff; stroke-width: 0.5\"/>\n     <use xlink:href=\"#mf0df1bf173\" x=\"166.748806\" y=\"51.173659\" style=\"fill: #0000ff; stroke: #0000ff; stroke-width: 0.5\"/>\n     <use xlink:href=\"#mf0df1bf173\" x=\"169.500116\" y=\"53.372932\" style=\"fill: #0000ff; stroke: #0000ff; stroke-width: 0.5\"/>\n     <use xlink:href=\"#mf0df1bf173\" x=\"175.002735\" y=\"53.372932\" style=\"fill: #0000ff; stroke: #0000ff; stroke-width: 0.5\"/>\n     <use xlink:href=\"#mf0df1bf173\" x=\"177.754045\" y=\"53.372932\" style=\"fill: #0000ff; stroke: #0000ff; stroke-width: 0.5\"/>\n     <use xlink:href=\"#mf0df1bf173\" x=\"183.256664\" y=\"53.372932\" style=\"fill: #0000ff; stroke: #0000ff; stroke-width: 0.5\"/>\n     <use xlink:href=\"#mf0df1bf173\" x=\"186.007974\" y=\"53.372932\" style=\"fill: #0000ff; stroke: #0000ff; stroke-width: 0.5\"/>\n     <use xlink:href=\"#mf0df1bf173\" x=\"191.510593\" y=\"57.771477\" style=\"fill: #0000ff; stroke: #0000ff; stroke-width: 0.5\"/>\n     <use xlink:href=\"#mf0df1bf173\" x=\"194.261903\" y=\"59.97075\" style=\"fill: #0000ff; stroke: #0000ff; stroke-width: 0.5\"/>\n     <use xlink:href=\"#mf0df1bf173\" x=\"199.764522\" y=\"57.771477\" style=\"fill: #0000ff; stroke: #0000ff; stroke-width: 0.5\"/>\n     <use xlink:href=\"#mf0df1bf173\" x=\"202.515832\" y=\"55.572205\" style=\"fill: #0000ff; stroke: #0000ff; stroke-width: 0.5\"/>\n     <use xlink:href=\"#mf0df1bf173\" x=\"208.018451\" y=\"57.771477\" style=\"fill: #0000ff; stroke: #0000ff; stroke-width: 0.5\"/>\n     <use xlink:href=\"#mf0df1bf173\" x=\"210.769761\" y=\"62.170023\" style=\"fill: #0000ff; stroke: #0000ff; stroke-width: 0.5\"/>\n     <use xlink:href=\"#mf0df1bf173\" x=\"216.272381\" y=\"64.369295\" style=\"fill: #0000ff; stroke: #0000ff; stroke-width: 0.5\"/>\n     <use xlink:href=\"#mf0df1bf173\" x=\"219.02369\" y=\"66.568568\" style=\"fill: #0000ff; stroke: #0000ff; stroke-width: 0.5\"/>\n     <use xlink:href=\"#mf0df1bf173\" x=\"224.52631\" y=\"62.170023\" style=\"fill: #0000ff; stroke: #0000ff; stroke-width: 0.5\"/>\n     <use xlink:href=\"#mf0df1bf173\" x=\"227.277619\" y=\"66.568568\" style=\"fill: #0000ff; stroke: #0000ff; stroke-width: 0.5\"/>\n     <use xlink:href=\"#mf0df1bf173\" x=\"232.780239\" y=\"64.369295\" style=\"fill: #0000ff; stroke: #0000ff; stroke-width: 0.5\"/>\n     <use xlink:href=\"#mf0df1bf173\" x=\"235.531549\" y=\"68.767841\" style=\"fill: #0000ff; stroke: #0000ff; stroke-width: 0.5\"/>\n     <use xlink:href=\"#mf0df1bf173\" x=\"241.034168\" y=\"62.170023\" style=\"fill: #0000ff; stroke: #0000ff; stroke-width: 0.5\"/>\n     <use xlink:href=\"#mf0df1bf173\" x=\"243.785478\" y=\"66.568568\" style=\"fill: #0000ff; stroke: #0000ff; stroke-width: 0.5\"/>\n     <use xlink:href=\"#mf0df1bf173\" x=\"249.288097\" y=\"66.568568\" style=\"fill: #0000ff; stroke: #0000ff; stroke-width: 0.5\"/>\n     <use xlink:href=\"#mf0df1bf173\" x=\"252.039407\" y=\"70.967114\" style=\"fill: #0000ff; stroke: #0000ff; stroke-width: 0.5\"/>\n     <use xlink:href=\"#mf0df1bf173\" x=\"257.542026\" y=\"95.159114\" style=\"fill: #0000ff; stroke: #0000ff; stroke-width: 0.5\"/>\n     <use xlink:href=\"#mf0df1bf173\" x=\"260.293336\" y=\"95.159114\" style=\"fill: #0000ff; stroke: #0000ff; stroke-width: 0.5\"/>\n     <use xlink:href=\"#mf0df1bf173\" x=\"265.795955\" y=\"125.948932\" style=\"fill: #0000ff; stroke: #0000ff; stroke-width: 0.5\"/>\n     <use xlink:href=\"#mf0df1bf173\" x=\"268.547265\" y=\"128.148205\" style=\"fill: #0000ff; stroke: #0000ff; stroke-width: 0.5\"/>\n     <use xlink:href=\"#mf0df1bf173\" x=\"274.049884\" y=\"147.941659\" style=\"fill: #0000ff; stroke: #0000ff; stroke-width: 0.5\"/>\n     <use xlink:href=\"#mf0df1bf173\" x=\"276.801194\" y=\"150.140932\" style=\"fill: #0000ff; stroke: #0000ff; stroke-width: 0.5\"/>\n     <use xlink:href=\"#mf0df1bf173\" x=\"282.303814\" y=\"167.735114\" style=\"fill: #0000ff; stroke: #0000ff; stroke-width: 0.5\"/>\n     <use xlink:href=\"#mf0df1bf173\" x=\"285.055123\" y=\"169.934386\" style=\"fill: #0000ff; stroke: #0000ff; stroke-width: 0.5\"/>\n     <use xlink:href=\"#mf0df1bf173\" x=\"290.557743\" y=\"176.532205\" style=\"fill: #0000ff; stroke: #0000ff; stroke-width: 0.5\"/>\n     <use xlink:href=\"#mf0df1bf173\" x=\"293.309052\" y=\"176.532205\" style=\"fill: #0000ff; stroke: #0000ff; stroke-width: 0.5\"/>\n     <use xlink:href=\"#mf0df1bf173\" x=\"298.811672\" y=\"191.927114\" style=\"fill: #0000ff; stroke: #0000ff; stroke-width: 0.5\"/>\n     <use xlink:href=\"#mf0df1bf173\" x=\"301.562982\" y=\"194.126386\" style=\"fill: #0000ff; stroke: #0000ff; stroke-width: 0.5\"/>\n     <use xlink:href=\"#mf0df1bf173\" x=\"307.065601\" y=\"194.126386\" style=\"fill: #0000ff; stroke: #0000ff; stroke-width: 0.5\"/>\n     <use xlink:href=\"#mf0df1bf173\" x=\"309.816911\" y=\"194.126386\" style=\"fill: #0000ff; stroke: #0000ff; stroke-width: 0.5\"/>\n     <use xlink:href=\"#mf0df1bf173\" x=\"315.31953\" y=\"194.126386\" style=\"fill: #0000ff; stroke: #0000ff; stroke-width: 0.5\"/>\n     <use xlink:href=\"#mf0df1bf173\" x=\"318.07084\" y=\"194.126386\" style=\"fill: #0000ff; stroke: #0000ff; stroke-width: 0.5\"/>\n     <use xlink:href=\"#mf0df1bf173\" x=\"323.573459\" y=\"194.126386\" style=\"fill: #0000ff; stroke: #0000ff; stroke-width: 0.5\"/>\n     <use xlink:href=\"#mf0df1bf173\" x=\"326.324769\" y=\"194.126386\" style=\"fill: #0000ff; stroke: #0000ff; stroke-width: 0.5\"/>\n     <use xlink:href=\"#mf0df1bf173\" x=\"331.827388\" y=\"198.524932\" style=\"fill: #0000ff; stroke: #0000ff; stroke-width: 0.5\"/>\n     <use xlink:href=\"#mf0df1bf173\" x=\"334.578698\" y=\"198.524932\" style=\"fill: #0000ff; stroke: #0000ff; stroke-width: 0.5\"/>\n     <use xlink:href=\"#mf0df1bf173\" x=\"340.081317\" y=\"198.524932\" style=\"fill: #0000ff; stroke: #0000ff; stroke-width: 0.5\"/>\n     <use xlink:href=\"#mf0df1bf173\" x=\"342.832627\" y=\"198.524932\" style=\"fill: #0000ff; stroke: #0000ff; stroke-width: 0.5\"/>\n     <use xlink:href=\"#mf0df1bf173\" x=\"348.335247\" y=\"205.12275\" style=\"fill: #0000ff; stroke: #0000ff; stroke-width: 0.5\"/>\n     <use xlink:href=\"#mf0df1bf173\" x=\"351.086556\" y=\"205.12275\" style=\"fill: #0000ff; stroke: #0000ff; stroke-width: 0.5\"/>\n     <use xlink:href=\"#mf0df1bf173\" x=\"356.589176\" y=\"209.521295\" style=\"fill: #0000ff; stroke: #0000ff; stroke-width: 0.5\"/>\n     <use xlink:href=\"#mf0df1bf173\" x=\"359.340485\" y=\"211.720568\" style=\"fill: #0000ff; stroke: #0000ff; stroke-width: 0.5\"/>\n     <use xlink:href=\"#mf0df1bf173\" x=\"364.843105\" y=\"220.517659\" style=\"fill: #0000ff; stroke: #0000ff; stroke-width: 0.5\"/>\n     <use xlink:href=\"#mf0df1bf173\" x=\"367.594414\" y=\"218.318386\" style=\"fill: #0000ff; stroke: #0000ff; stroke-width: 0.5\"/>\n     <use xlink:href=\"#mf0df1bf173\" x=\"373.097034\" y=\"231.514023\" style=\"fill: #0000ff; stroke: #0000ff; stroke-width: 0.5\"/>\n     <use xlink:href=\"#mf0df1bf173\" x=\"375.848344\" y=\"233.713295\" style=\"fill: #0000ff; stroke: #0000ff; stroke-width: 0.5\"/>\n     <use xlink:href=\"#mf0df1bf173\" x=\"381.350963\" y=\"257.905295\" style=\"fill: #0000ff; stroke: #0000ff; stroke-width: 0.5\"/>\n     <use xlink:href=\"#mf0df1bf173\" x=\"384.102273\" y=\"277.69875\" style=\"fill: #0000ff; stroke: #0000ff; stroke-width: 0.5\"/>\n    </g>\n   </g>\n   <g id=\"patch_3\">\n    <path d=\"M 43.215 289.79475 \nL 43.215 23.68275 \n\" style=\"fill: none; stroke: #ffffff; stroke-linejoin: miter; stroke-linecap: square\"/>\n   </g>\n   <g id=\"patch_4\">\n    <path d=\"M 400.335 289.79475 \nL 400.335 23.68275 \n\" style=\"fill: none; stroke: #ffffff; stroke-linejoin: miter; stroke-linecap: square\"/>\n   </g>\n   <g id=\"patch_5\">\n    <path d=\"M 43.215 289.79475 \nL 400.335 289.79475 \n\" style=\"fill: none; stroke: #ffffff; stroke-linejoin: miter; stroke-linecap: square\"/>\n   </g>\n   <g id=\"patch_6\">\n    <path d=\"M 43.215 23.68275 \nL 400.335 23.68275 \n\" style=\"fill: none; stroke: #ffffff; stroke-linejoin: miter; stroke-linecap: square\"/>\n   </g>\n   <g id=\"text_18\">\n    <!-- Average Accuracy in Terms of K -->\n    <g style=\"fill: #262626\" transform=\"translate(112.007625 17.68275) scale(0.144 -0.144)\">\n     <defs>\n      <path id=\"Arial-BoldMT-41\" d=\"M 4597 0 \nL 3591 0 \nL 3191 1041 \nL 1359 1041 \nL 981 0 \nL 0 0 \nL 1784 4581 \nL 2763 4581 \nL 4597 0 \nz\nM 2894 1813 \nL 2263 3513 \nL 1644 1813 \nL 2894 1813 \nz\n\" transform=\"scale(0.015625)\"/>\n      <path id=\"Arial-BoldMT-76\" d=\"M 1372 0 \nL 34 3319 \nL 956 3319 \nL 1581 1625 \nL 1763 1059 \nQ 1834 1275 1853 1344 \nQ 1897 1484 1947 1625 \nL 2578 3319 \nL 3481 3319 \nL 2163 0 \nL 1372 0 \nz\n\" transform=\"scale(0.015625)\"/>\n      <path id=\"Arial-BoldMT-65\" d=\"M 2381 1056 \nL 3256 909 \nQ 3088 428 2723 176 \nQ 2359 -75 1813 -75 \nQ 947 -75 531 491 \nQ 203 944 203 1634 \nQ 203 2459 634 2926 \nQ 1066 3394 1725 3394 \nQ 2466 3394 2894 2905 \nQ 3322 2416 3303 1406 \nL 1103 1406 \nQ 1113 1016 1316 798 \nQ 1519 581 1822 581 \nQ 2028 581 2168 693 \nQ 2309 806 2381 1056 \nz\nM 2431 1944 \nQ 2422 2325 2234 2523 \nQ 2047 2722 1778 2722 \nQ 1491 2722 1303 2513 \nQ 1116 2303 1119 1944 \nL 2431 1944 \nz\n\" transform=\"scale(0.015625)\"/>\n      <path id=\"Arial-BoldMT-72\" d=\"M 1300 0 \nL 422 0 \nL 422 3319 \nL 1238 3319 \nL 1238 2847 \nQ 1447 3181 1614 3287 \nQ 1781 3394 1994 3394 \nQ 2294 3394 2572 3228 \nL 2300 2463 \nQ 2078 2606 1888 2606 \nQ 1703 2606 1575 2504 \nQ 1447 2403 1373 2137 \nQ 1300 1872 1300 1025 \nL 1300 0 \nz\n\" transform=\"scale(0.015625)\"/>\n      <path id=\"Arial-BoldMT-61\" d=\"M 1116 2306 \nL 319 2450 \nQ 453 2931 781 3162 \nQ 1109 3394 1756 3394 \nQ 2344 3394 2631 3255 \nQ 2919 3116 3036 2902 \nQ 3153 2688 3153 2116 \nL 3144 1091 \nQ 3144 653 3186 445 \nQ 3228 238 3344 0 \nL 2475 0 \nQ 2441 88 2391 259 \nQ 2369 338 2359 363 \nQ 2134 144 1878 34 \nQ 1622 -75 1331 -75 \nQ 819 -75 523 203 \nQ 228 481 228 906 \nQ 228 1188 362 1408 \nQ 497 1628 739 1745 \nQ 981 1863 1438 1950 \nQ 2053 2066 2291 2166 \nL 2291 2253 \nQ 2291 2506 2166 2614 \nQ 2041 2722 1694 2722 \nQ 1459 2722 1328 2630 \nQ 1197 2538 1116 2306 \nz\nM 2291 1594 \nQ 2122 1538 1756 1459 \nQ 1391 1381 1278 1306 \nQ 1106 1184 1106 997 \nQ 1106 813 1243 678 \nQ 1381 544 1594 544 \nQ 1831 544 2047 700 \nQ 2206 819 2256 991 \nQ 2291 1103 2291 1419 \nL 2291 1594 \nz\n\" transform=\"scale(0.015625)\"/>\n      <path id=\"Arial-BoldMT-67\" d=\"M 378 -219 \nL 1381 -341 \nQ 1406 -516 1497 -581 \nQ 1622 -675 1891 -675 \nQ 2234 -675 2406 -572 \nQ 2522 -503 2581 -350 \nQ 2622 -241 2622 53 \nL 2622 538 \nQ 2228 0 1628 0 \nQ 959 0 569 566 \nQ 263 1013 263 1678 \nQ 263 2513 664 2953 \nQ 1066 3394 1663 3394 \nQ 2278 3394 2678 2853 \nL 2678 3319 \nL 3500 3319 \nL 3500 341 \nQ 3500 -247 3403 -537 \nQ 3306 -828 3131 -993 \nQ 2956 -1159 2664 -1253 \nQ 2372 -1347 1925 -1347 \nQ 1081 -1347 728 -1058 \nQ 375 -769 375 -325 \nQ 375 -281 378 -219 \nz\nM 1163 1728 \nQ 1163 1200 1367 954 \nQ 1572 709 1872 709 \nQ 2194 709 2416 961 \nQ 2638 1213 2638 1706 \nQ 2638 2222 2425 2472 \nQ 2213 2722 1888 2722 \nQ 1572 2722 1367 2476 \nQ 1163 2231 1163 1728 \nz\n\" transform=\"scale(0.015625)\"/>\n      <path id=\"Arial-BoldMT-20\" transform=\"scale(0.015625)\"/>\n      <path id=\"Arial-BoldMT-63\" d=\"M 3353 2338 \nL 2488 2181 \nQ 2444 2441 2289 2572 \nQ 2134 2703 1888 2703 \nQ 1559 2703 1364 2476 \nQ 1169 2250 1169 1719 \nQ 1169 1128 1367 884 \nQ 1566 641 1900 641 \nQ 2150 641 2309 783 \nQ 2469 925 2534 1272 \nL 3397 1125 \nQ 3263 531 2881 228 \nQ 2500 -75 1859 -75 \nQ 1131 -75 698 384 \nQ 266 844 266 1656 \nQ 266 2478 700 2936 \nQ 1134 3394 1875 3394 \nQ 2481 3394 2839 3133 \nQ 3197 2872 3353 2338 \nz\n\" transform=\"scale(0.015625)\"/>\n      <path id=\"Arial-BoldMT-75\" d=\"M 2644 0 \nL 2644 497 \nQ 2463 231 2167 78 \nQ 1872 -75 1544 -75 \nQ 1209 -75 943 72 \nQ 678 219 559 484 \nQ 441 750 441 1219 \nL 441 3319 \nL 1319 3319 \nL 1319 1794 \nQ 1319 1094 1367 936 \nQ 1416 778 1544 686 \nQ 1672 594 1869 594 \nQ 2094 594 2272 717 \nQ 2450 841 2515 1023 \nQ 2581 1206 2581 1919 \nL 2581 3319 \nL 3459 3319 \nL 3459 0 \nL 2644 0 \nz\n\" transform=\"scale(0.015625)\"/>\n      <path id=\"Arial-BoldMT-79\" d=\"M 44 3319 \nL 978 3319 \nL 1772 963 \nL 2547 3319 \nL 3456 3319 \nL 2284 125 \nL 2075 -453 \nQ 1959 -744 1854 -897 \nQ 1750 -1050 1614 -1145 \nQ 1478 -1241 1279 -1294 \nQ 1081 -1347 831 -1347 \nQ 578 -1347 334 -1294 \nL 256 -606 \nQ 463 -647 628 -647 \nQ 934 -647 1081 -467 \nQ 1228 -288 1306 -9 \nL 44 3319 \nz\n\" transform=\"scale(0.015625)\"/>\n      <path id=\"Arial-BoldMT-69\" d=\"M 459 3769 \nL 459 4581 \nL 1338 4581 \nL 1338 3769 \nL 459 3769 \nz\nM 459 0 \nL 459 3319 \nL 1338 3319 \nL 1338 0 \nL 459 0 \nz\n\" transform=\"scale(0.015625)\"/>\n      <path id=\"Arial-BoldMT-6e\" d=\"M 3478 0 \nL 2600 0 \nL 2600 1694 \nQ 2600 2231 2544 2389 \nQ 2488 2547 2361 2634 \nQ 2234 2722 2056 2722 \nQ 1828 2722 1647 2597 \nQ 1466 2472 1398 2265 \nQ 1331 2059 1331 1503 \nL 1331 0 \nL 453 0 \nL 453 3319 \nL 1269 3319 \nL 1269 2831 \nQ 1703 3394 2363 3394 \nQ 2653 3394 2893 3289 \nQ 3134 3184 3257 3021 \nQ 3381 2859 3429 2653 \nQ 3478 2447 3478 2063 \nL 3478 0 \nz\n\" transform=\"scale(0.015625)\"/>\n      <path id=\"Arial-BoldMT-54\" d=\"M 1497 0 \nL 1497 3806 \nL 138 3806 \nL 138 4581 \nL 3778 4581 \nL 3778 3806 \nL 2422 3806 \nL 2422 0 \nL 1497 0 \nz\n\" transform=\"scale(0.015625)\"/>\n      <path id=\"Arial-BoldMT-6d\" d=\"M 394 3319 \nL 1203 3319 \nL 1203 2866 \nQ 1638 3394 2238 3394 \nQ 2556 3394 2790 3262 \nQ 3025 3131 3175 2866 \nQ 3394 3131 3647 3262 \nQ 3900 3394 4188 3394 \nQ 4553 3394 4806 3245 \nQ 5059 3097 5184 2809 \nQ 5275 2597 5275 2122 \nL 5275 0 \nL 4397 0 \nL 4397 1897 \nQ 4397 2391 4306 2534 \nQ 4184 2722 3931 2722 \nQ 3747 2722 3584 2609 \nQ 3422 2497 3350 2280 \nQ 3278 2063 3278 1594 \nL 3278 0 \nL 2400 0 \nL 2400 1819 \nQ 2400 2303 2353 2443 \nQ 2306 2584 2207 2653 \nQ 2109 2722 1941 2722 \nQ 1738 2722 1575 2612 \nQ 1413 2503 1342 2297 \nQ 1272 2091 1272 1613 \nL 1272 0 \nL 394 0 \nL 394 3319 \nz\n\" transform=\"scale(0.015625)\"/>\n      <path id=\"Arial-BoldMT-73\" d=\"M 150 947 \nL 1031 1081 \nQ 1088 825 1259 692 \nQ 1431 559 1741 559 \nQ 2081 559 2253 684 \nQ 2369 772 2369 919 \nQ 2369 1019 2306 1084 \nQ 2241 1147 2013 1200 \nQ 950 1434 666 1628 \nQ 272 1897 272 2375 \nQ 272 2806 612 3100 \nQ 953 3394 1669 3394 \nQ 2350 3394 2681 3172 \nQ 3013 2950 3138 2516 \nL 2309 2363 \nQ 2256 2556 2107 2659 \nQ 1959 2763 1684 2763 \nQ 1338 2763 1188 2666 \nQ 1088 2597 1088 2488 \nQ 1088 2394 1175 2328 \nQ 1294 2241 1995 2081 \nQ 2697 1922 2975 1691 \nQ 3250 1456 3250 1038 \nQ 3250 581 2869 253 \nQ 2488 -75 1741 -75 \nQ 1063 -75 667 200 \nQ 272 475 150 947 \nz\n\" transform=\"scale(0.015625)\"/>\n      <path id=\"Arial-BoldMT-6f\" d=\"M 256 1706 \nQ 256 2144 472 2553 \nQ 688 2963 1083 3178 \nQ 1478 3394 1966 3394 \nQ 2719 3394 3200 2905 \nQ 3681 2416 3681 1669 \nQ 3681 916 3195 420 \nQ 2709 -75 1972 -75 \nQ 1516 -75 1102 131 \nQ 688 338 472 736 \nQ 256 1134 256 1706 \nz\nM 1156 1659 \nQ 1156 1166 1390 903 \nQ 1625 641 1969 641 \nQ 2313 641 2545 903 \nQ 2778 1166 2778 1666 \nQ 2778 2153 2545 2415 \nQ 2313 2678 1969 2678 \nQ 1625 2678 1390 2415 \nQ 1156 2153 1156 1659 \nz\n\" transform=\"scale(0.015625)\"/>\n      <path id=\"Arial-BoldMT-66\" d=\"M 75 3319 \nL 563 3319 \nL 563 3569 \nQ 563 3988 652 4194 \nQ 741 4400 980 4529 \nQ 1219 4659 1584 4659 \nQ 1959 4659 2319 4547 \nL 2200 3934 \nQ 1991 3984 1797 3984 \nQ 1606 3984 1523 3895 \nQ 1441 3806 1441 3553 \nL 1441 3319 \nL 2097 3319 \nL 2097 2628 \nL 1441 2628 \nL 1441 0 \nL 563 0 \nL 563 2628 \nL 75 2628 \nL 75 3319 \nz\n\" transform=\"scale(0.015625)\"/>\n      <path id=\"Arial-BoldMT-4b\" d=\"M 478 0 \nL 478 4581 \nL 1403 4581 \nL 1403 2547 \nL 3272 4581 \nL 4516 4581 \nL 2791 2797 \nL 4609 0 \nL 3413 0 \nL 2153 2150 \nL 1403 1384 \nL 1403 0 \nL 478 0 \nz\n\" transform=\"scale(0.015625)\"/>\n     </defs>\n     <use xlink:href=\"#Arial-BoldMT-41\"/>\n     <use xlink:href=\"#Arial-BoldMT-76\" x=\"68.466797\"/>\n     <use xlink:href=\"#Arial-BoldMT-65\" x=\"124.082031\"/>\n     <use xlink:href=\"#Arial-BoldMT-72\" x=\"179.697266\"/>\n     <use xlink:href=\"#Arial-BoldMT-61\" x=\"218.613281\"/>\n     <use xlink:href=\"#Arial-BoldMT-67\" x=\"274.228516\"/>\n     <use xlink:href=\"#Arial-BoldMT-65\" x=\"335.3125\"/>\n     <use xlink:href=\"#Arial-BoldMT-20\" x=\"390.927734\"/>\n     <use xlink:href=\"#Arial-BoldMT-41\" x=\"414.960938\"/>\n     <use xlink:href=\"#Arial-BoldMT-63\" x=\"487.177734\"/>\n     <use xlink:href=\"#Arial-BoldMT-63\" x=\"542.792969\"/>\n     <use xlink:href=\"#Arial-BoldMT-75\" x=\"598.408203\"/>\n     <use xlink:href=\"#Arial-BoldMT-72\" x=\"659.492188\"/>\n     <use xlink:href=\"#Arial-BoldMT-61\" x=\"698.408203\"/>\n     <use xlink:href=\"#Arial-BoldMT-63\" x=\"754.023438\"/>\n     <use xlink:href=\"#Arial-BoldMT-79\" x=\"809.638672\"/>\n     <use xlink:href=\"#Arial-BoldMT-20\" x=\"865.253906\"/>\n     <use xlink:href=\"#Arial-BoldMT-69\" x=\"893.037109\"/>\n     <use xlink:href=\"#Arial-BoldMT-6e\" x=\"920.820312\"/>\n     <use xlink:href=\"#Arial-BoldMT-20\" x=\"981.904297\"/>\n     <use xlink:href=\"#Arial-BoldMT-54\" x=\"1009.6875\"/>\n     <use xlink:href=\"#Arial-BoldMT-65\" x=\"1063.396484\"/>\n     <use xlink:href=\"#Arial-BoldMT-72\" x=\"1119.011719\"/>\n     <use xlink:href=\"#Arial-BoldMT-6d\" x=\"1157.927734\"/>\n     <use xlink:href=\"#Arial-BoldMT-73\" x=\"1246.84375\"/>\n     <use xlink:href=\"#Arial-BoldMT-20\" x=\"1302.458984\"/>\n     <use xlink:href=\"#Arial-BoldMT-6f\" x=\"1330.242188\"/>\n     <use xlink:href=\"#Arial-BoldMT-66\" x=\"1391.326172\"/>\n     <use xlink:href=\"#Arial-BoldMT-20\" x=\"1424.626953\"/>\n     <use xlink:href=\"#Arial-BoldMT-4b\" x=\"1452.410156\"/>\n    </g>\n   </g>\n  </g>\n </g>\n <defs>\n  <clipPath id=\"p1f4e40ced6\">\n   <rect x=\"43.215\" y=\"23.68275\" width=\"357.12\" height=\"266.112\"/>\n  </clipPath>\n </defs>\n</svg>\n"
     },
     "metadata": {},
     "output_type": "display_data"
    }
   ],
   "execution_count": 17
  },
  {
   "metadata": {},
   "cell_type": "markdown",
   "source": "## Print Best Result",
   "id": "e40da43abdc89a61"
  },
  {
   "metadata": {
    "ExecuteTime": {
     "end_time": "2024-10-15T16:31:50.195412Z",
     "start_time": "2024-10-15T16:31:50.191867Z"
    }
   },
   "cell_type": "code",
   "source": [
    "k_max_list = []\n",
    "for z in range(len(average_acc)):\n",
    "    if average_acc[z] == max(average_acc):\n",
    "        k_max_list.append(k_list[z])\n",
    "\n",
    "print(f'Highest average accuracy: {max(average_acc):.2f}')\n",
    "print(f'Corresponding K: {k_max_list}')"
   ],
   "id": "56d2f3ec887fc957",
   "outputs": [
    {
     "name": "stdout",
     "output_type": "stream",
     "text": [
      "Highest average accuracy: 0.98\n",
      "Corresponding K: [7, 8]\n"
     ]
    }
   ],
   "execution_count": 9
  }
 ],
 "metadata": {
  "kernelspec": {
   "display_name": "Python 3",
   "language": "python",
   "name": "python3"
  },
  "language_info": {
   "codemirror_mode": {
    "name": "ipython",
    "version": 2
   },
   "file_extension": ".py",
   "mimetype": "text/x-python",
   "name": "python",
   "nbconvert_exporter": "python",
   "pygments_lexer": "ipython2",
   "version": "2.7.6"
  }
 },
 "nbformat": 4,
 "nbformat_minor": 5
}
